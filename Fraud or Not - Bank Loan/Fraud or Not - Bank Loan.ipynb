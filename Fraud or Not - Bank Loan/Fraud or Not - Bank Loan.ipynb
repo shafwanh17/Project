{
  "cells": [
    {
      "cell_type": "markdown",
      "metadata": {},
      "source": [
        "# Introduction\n",
        "\n",
        "<p><img src=\"https://www.bajajfinservmarkets.in/discover/wp-content/uploads/2019/02/loans-are-these-good-or-bad.png-min.png\" alt=\"Project Image Record\" width=\"600px\"></p>\n",
        "\n",
        "\n",
        "Dengan Menggunakan dataset Loan Bank,  kita disajikan bagaimana data yang dari setiap peminjaman dana yang di berikan oleh Bank kepada Nasabah.\n",
        "Data ini dapat kita gunakan untuk melakukan melakukan prediksi agar mengetahui `Fraud or Not - Bank Loan` dengan menggunakan Model Machine learning.\n",
        "Dari Machine Learning ini diharapkan dapat memberikan prediksi untuk menghindari Fraud dari Pinjaman yang diberikan kepada Nasabah.\n"
      ]
    },
    {
      "cell_type": "markdown",
      "metadata": {},
      "source": [
        "## Import Package"
      ]
    },
    {
      "cell_type": "code",
      "execution_count": 202,
      "metadata": {
        "id": "K0OXmsm7X5Ie"
      },
      "outputs": [],
      "source": [
        "import pandas as pd\n",
        "import numpy as np\n",
        "import statistics as st\n",
        "from collections import Counter\n",
        "\n",
        "from sklearn.tree import DecisionTreeClassifier, plot_tree\n",
        "from sklearn.ensemble import AdaBoostClassifier, RandomForestClassifier\n",
        "\n",
        "import seaborn as sns\n",
        "import matplotlib.pyplot as plt\n",
        "\n",
        "from sklearn.preprocessing import LabelEncoder\n",
        "from sklearn.model_selection import train_test_split, cross_val_score, StratifiedKFold, GridSearchCV, RandomizedSearchCV\n",
        "from imblearn.over_sampling import RandomOverSampler, SMOTE\n",
        "from imblearn.under_sampling import RandomUnderSampler, NearMiss\n",
        "from imblearn.pipeline import Pipeline\n",
        "from sklearn.metrics import recall_score\n",
        "\n",
        "from sklearn.feature_selection import SelectKBest, f_classif\n",
        "\n",
        "from sklearn.linear_model import LogisticRegression\n",
        "\n",
        "from sklearn.metrics import plot_roc_curve, plot_precision_recall_curve, classification_report, f1_score\n",
        "\n",
        "import warnings\n",
        "\n",
        "warnings.filterwarnings('ignore')\n",
        "pd.set_option('display.max_columns', None)"
      ]
    },
    {
      "cell_type": "markdown",
      "metadata": {},
      "source": [
        "## Import Dataset"
      ]
    },
    {
      "cell_type": "code",
      "execution_count": 73,
      "metadata": {
        "id": "5WUwS24nX5Il",
        "outputId": "c37f1301-29e2-40e4-d008-b0e6ab458934"
      },
      "outputs": [
        {
          "data": {
            "text/html": [
              "<div>\n",
              "<style scoped>\n",
              "    .dataframe tbody tr th:only-of-type {\n",
              "        vertical-align: middle;\n",
              "    }\n",
              "\n",
              "    .dataframe tbody tr th {\n",
              "        vertical-align: top;\n",
              "    }\n",
              "\n",
              "    .dataframe thead th {\n",
              "        text-align: right;\n",
              "    }\n",
              "</style>\n",
              "<table border=\"1\" class=\"dataframe\">\n",
              "  <thead>\n",
              "    <tr style=\"text-align: right;\">\n",
              "      <th></th>\n",
              "      <th>id</th>\n",
              "      <th>year</th>\n",
              "      <th>issue_d</th>\n",
              "      <th>final_d</th>\n",
              "      <th>emp_length_int</th>\n",
              "      <th>home_ownership</th>\n",
              "      <th>home_ownership_cat</th>\n",
              "      <th>income_category</th>\n",
              "      <th>annual_inc</th>\n",
              "      <th>income_cat</th>\n",
              "      <th>loan_amount</th>\n",
              "      <th>term</th>\n",
              "      <th>term_cat</th>\n",
              "      <th>application_type</th>\n",
              "      <th>application_type_cat</th>\n",
              "      <th>purpose</th>\n",
              "      <th>purpose_cat</th>\n",
              "      <th>interest_payments</th>\n",
              "      <th>interest_payment_cat</th>\n",
              "      <th>loan_condition</th>\n",
              "      <th>loan_condition_cat</th>\n",
              "      <th>interest_rate</th>\n",
              "      <th>grade</th>\n",
              "      <th>grade_cat</th>\n",
              "      <th>dti</th>\n",
              "      <th>total_pymnt</th>\n",
              "      <th>total_rec_prncp</th>\n",
              "      <th>recoveries</th>\n",
              "      <th>installment</th>\n",
              "      <th>region</th>\n",
              "    </tr>\n",
              "  </thead>\n",
              "  <tbody>\n",
              "    <tr>\n",
              "      <th>0</th>\n",
              "      <td>1077501</td>\n",
              "      <td>2011-01-01</td>\n",
              "      <td>2011-01-12</td>\n",
              "      <td>1012015</td>\n",
              "      <td>10.0</td>\n",
              "      <td>RENT</td>\n",
              "      <td>1</td>\n",
              "      <td>Low</td>\n",
              "      <td>24000</td>\n",
              "      <td>1</td>\n",
              "      <td>5000</td>\n",
              "      <td>36 months</td>\n",
              "      <td>1</td>\n",
              "      <td>INDIVIDUAL</td>\n",
              "      <td>1</td>\n",
              "      <td>credit_card</td>\n",
              "      <td>1</td>\n",
              "      <td>Low</td>\n",
              "      <td>1</td>\n",
              "      <td>Good Loan</td>\n",
              "      <td>0</td>\n",
              "      <td>10.65</td>\n",
              "      <td>B</td>\n",
              "      <td>2</td>\n",
              "      <td>27.65</td>\n",
              "      <td>5861.071414</td>\n",
              "      <td>5000.00</td>\n",
              "      <td>0.00</td>\n",
              "      <td>162.87</td>\n",
              "      <td>munster</td>\n",
              "    </tr>\n",
              "    <tr>\n",
              "      <th>1</th>\n",
              "      <td>1077430</td>\n",
              "      <td>2011-01-01</td>\n",
              "      <td>2011-01-12</td>\n",
              "      <td>1042013</td>\n",
              "      <td>0.5</td>\n",
              "      <td>RENT</td>\n",
              "      <td>1</td>\n",
              "      <td>Low</td>\n",
              "      <td>30000</td>\n",
              "      <td>1</td>\n",
              "      <td>2500</td>\n",
              "      <td>60 months</td>\n",
              "      <td>2</td>\n",
              "      <td>INDIVIDUAL</td>\n",
              "      <td>1</td>\n",
              "      <td>car</td>\n",
              "      <td>2</td>\n",
              "      <td>High</td>\n",
              "      <td>2</td>\n",
              "      <td>Bad Loan</td>\n",
              "      <td>1</td>\n",
              "      <td>15.27</td>\n",
              "      <td>C</td>\n",
              "      <td>3</td>\n",
              "      <td>1.00</td>\n",
              "      <td>1008.710000</td>\n",
              "      <td>456.46</td>\n",
              "      <td>117.08</td>\n",
              "      <td>59.83</td>\n",
              "      <td>leinster</td>\n",
              "    </tr>\n",
              "    <tr>\n",
              "      <th>2</th>\n",
              "      <td>1077175</td>\n",
              "      <td>2011-01-01</td>\n",
              "      <td>2011-01-12</td>\n",
              "      <td>1062014</td>\n",
              "      <td>10.0</td>\n",
              "      <td>RENT</td>\n",
              "      <td>1</td>\n",
              "      <td>Low</td>\n",
              "      <td>12252</td>\n",
              "      <td>1</td>\n",
              "      <td>2400</td>\n",
              "      <td>36 months</td>\n",
              "      <td>1</td>\n",
              "      <td>INDIVIDUAL</td>\n",
              "      <td>1</td>\n",
              "      <td>small_business</td>\n",
              "      <td>3</td>\n",
              "      <td>High</td>\n",
              "      <td>2</td>\n",
              "      <td>Good Loan</td>\n",
              "      <td>0</td>\n",
              "      <td>15.96</td>\n",
              "      <td>C</td>\n",
              "      <td>3</td>\n",
              "      <td>8.72</td>\n",
              "      <td>3003.653644</td>\n",
              "      <td>2400.00</td>\n",
              "      <td>0.00</td>\n",
              "      <td>84.33</td>\n",
              "      <td>cannught</td>\n",
              "    </tr>\n",
              "    <tr>\n",
              "      <th>3</th>\n",
              "      <td>1076863</td>\n",
              "      <td>2011-01-01</td>\n",
              "      <td>2011-01-12</td>\n",
              "      <td>1012015</td>\n",
              "      <td>10.0</td>\n",
              "      <td>RENT</td>\n",
              "      <td>1</td>\n",
              "      <td>Low</td>\n",
              "      <td>49200</td>\n",
              "      <td>1</td>\n",
              "      <td>10000</td>\n",
              "      <td>36 months</td>\n",
              "      <td>1</td>\n",
              "      <td>INDIVIDUAL</td>\n",
              "      <td>1</td>\n",
              "      <td>other</td>\n",
              "      <td>4</td>\n",
              "      <td>High</td>\n",
              "      <td>2</td>\n",
              "      <td>Good Loan</td>\n",
              "      <td>0</td>\n",
              "      <td>13.49</td>\n",
              "      <td>C</td>\n",
              "      <td>3</td>\n",
              "      <td>20.00</td>\n",
              "      <td>12226.302210</td>\n",
              "      <td>10000.00</td>\n",
              "      <td>0.00</td>\n",
              "      <td>339.31</td>\n",
              "      <td>ulster</td>\n",
              "    </tr>\n",
              "    <tr>\n",
              "      <th>4</th>\n",
              "      <td>1075358</td>\n",
              "      <td>2011-01-01</td>\n",
              "      <td>2011-01-12</td>\n",
              "      <td>1012016</td>\n",
              "      <td>1.0</td>\n",
              "      <td>RENT</td>\n",
              "      <td>1</td>\n",
              "      <td>Low</td>\n",
              "      <td>80000</td>\n",
              "      <td>1</td>\n",
              "      <td>3000</td>\n",
              "      <td>60 months</td>\n",
              "      <td>2</td>\n",
              "      <td>INDIVIDUAL</td>\n",
              "      <td>1</td>\n",
              "      <td>other</td>\n",
              "      <td>4</td>\n",
              "      <td>Low</td>\n",
              "      <td>1</td>\n",
              "      <td>Good Loan</td>\n",
              "      <td>0</td>\n",
              "      <td>12.69</td>\n",
              "      <td>B</td>\n",
              "      <td>2</td>\n",
              "      <td>17.94</td>\n",
              "      <td>3242.170000</td>\n",
              "      <td>2233.10</td>\n",
              "      <td>0.00</td>\n",
              "      <td>67.79</td>\n",
              "      <td>ulster</td>\n",
              "    </tr>\n",
              "  </tbody>\n",
              "</table>\n",
              "</div>"
            ],
            "text/plain": [
              "        id       year    issue_d  final_d  emp_length_int home_ownership  \\\n",
              "0  1077501 2011-01-01 2011-01-12  1012015            10.0           RENT   \n",
              "1  1077430 2011-01-01 2011-01-12  1042013             0.5           RENT   \n",
              "2  1077175 2011-01-01 2011-01-12  1062014            10.0           RENT   \n",
              "3  1076863 2011-01-01 2011-01-12  1012015            10.0           RENT   \n",
              "4  1075358 2011-01-01 2011-01-12  1012016             1.0           RENT   \n",
              "\n",
              "   home_ownership_cat income_category  annual_inc  income_cat  loan_amount  \\\n",
              "0                   1             Low       24000           1         5000   \n",
              "1                   1             Low       30000           1         2500   \n",
              "2                   1             Low       12252           1         2400   \n",
              "3                   1             Low       49200           1        10000   \n",
              "4                   1             Low       80000           1         3000   \n",
              "\n",
              "         term  term_cat application_type  application_type_cat  \\\n",
              "0   36 months         1       INDIVIDUAL                     1   \n",
              "1   60 months         2       INDIVIDUAL                     1   \n",
              "2   36 months         1       INDIVIDUAL                     1   \n",
              "3   36 months         1       INDIVIDUAL                     1   \n",
              "4   60 months         2       INDIVIDUAL                     1   \n",
              "\n",
              "          purpose  purpose_cat interest_payments  interest_payment_cat  \\\n",
              "0     credit_card            1               Low                     1   \n",
              "1             car            2              High                     2   \n",
              "2  small_business            3              High                     2   \n",
              "3           other            4              High                     2   \n",
              "4           other            4               Low                     1   \n",
              "\n",
              "  loan_condition  loan_condition_cat  interest_rate grade  grade_cat    dti  \\\n",
              "0      Good Loan                   0          10.65     B          2  27.65   \n",
              "1       Bad Loan                   1          15.27     C          3   1.00   \n",
              "2      Good Loan                   0          15.96     C          3   8.72   \n",
              "3      Good Loan                   0          13.49     C          3  20.00   \n",
              "4      Good Loan                   0          12.69     B          2  17.94   \n",
              "\n",
              "    total_pymnt  total_rec_prncp  recoveries  installment    region  \n",
              "0   5861.071414          5000.00        0.00       162.87   munster  \n",
              "1   1008.710000           456.46      117.08        59.83  leinster  \n",
              "2   3003.653644          2400.00        0.00        84.33  cannught  \n",
              "3  12226.302210         10000.00        0.00       339.31    ulster  \n",
              "4   3242.170000          2233.10        0.00        67.79    ulster  "
            ]
          },
          "execution_count": 73,
          "metadata": {},
          "output_type": "execute_result"
        }
      ],
      "source": [
        "df = pd.read_csv('loan.csv', parse_dates=['year', 'issue_d'])\n",
        "df.head()"
      ]
    },
    {
      "cell_type": "markdown",
      "metadata": {
        "id": "c7MUtIoWX5Im"
      },
      "source": [
        "## EDA"
      ]
    },
    {
      "cell_type": "code",
      "execution_count": 74,
      "metadata": {
        "id": "ceRodepfX5Io",
        "outputId": "b232e20b-5d15-461d-a9c1-2b1506f6d1d9"
      },
      "outputs": [
        {
          "data": {
            "text/plain": [
              "Index(['id', 'year', 'issue_d', 'final_d', 'emp_length_int', 'home_ownership',\n",
              "       'home_ownership_cat', 'income_category', 'annual_inc', 'income_cat',\n",
              "       'loan_amount', 'term', 'term_cat', 'application_type',\n",
              "       'application_type_cat', 'purpose', 'purpose_cat', 'interest_payments',\n",
              "       'interest_payment_cat', 'loan_condition', 'loan_condition_cat',\n",
              "       'interest_rate', 'grade', 'grade_cat', 'dti', 'total_pymnt',\n",
              "       'total_rec_prncp', 'recoveries', 'installment', 'region'],\n",
              "      dtype='object')"
            ]
          },
          "execution_count": 74,
          "metadata": {},
          "output_type": "execute_result"
        }
      ],
      "source": [
        "df.columns"
      ]
    },
    {
      "cell_type": "code",
      "execution_count": 75,
      "metadata": {
        "id": "eqPltrHRX5Iq",
        "outputId": "0e84c8b9-1a0b-4875-dcab-053cf15de134"
      },
      "outputs": [
        {
          "data": {
            "text/html": [
              "<div>\n",
              "<style scoped>\n",
              "    .dataframe tbody tr th:only-of-type {\n",
              "        vertical-align: middle;\n",
              "    }\n",
              "\n",
              "    .dataframe tbody tr th {\n",
              "        vertical-align: top;\n",
              "    }\n",
              "\n",
              "    .dataframe thead th {\n",
              "        text-align: right;\n",
              "    }\n",
              "</style>\n",
              "<table border=\"1\" class=\"dataframe\">\n",
              "  <thead>\n",
              "    <tr style=\"text-align: right;\">\n",
              "      <th></th>\n",
              "      <th>id</th>\n",
              "      <th>final_d</th>\n",
              "      <th>emp_length_int</th>\n",
              "      <th>home_ownership_cat</th>\n",
              "      <th>annual_inc</th>\n",
              "      <th>income_cat</th>\n",
              "      <th>loan_amount</th>\n",
              "      <th>term_cat</th>\n",
              "      <th>application_type_cat</th>\n",
              "      <th>purpose_cat</th>\n",
              "      <th>interest_payment_cat</th>\n",
              "      <th>loan_condition_cat</th>\n",
              "      <th>interest_rate</th>\n",
              "      <th>grade_cat</th>\n",
              "      <th>dti</th>\n",
              "      <th>total_pymnt</th>\n",
              "      <th>total_rec_prncp</th>\n",
              "      <th>recoveries</th>\n",
              "      <th>installment</th>\n",
              "    </tr>\n",
              "  </thead>\n",
              "  <tbody>\n",
              "    <tr>\n",
              "      <th>count</th>\n",
              "      <td>8.873790e+05</td>\n",
              "      <td>8.873790e+05</td>\n",
              "      <td>887379.000000</td>\n",
              "      <td>887379.000000</td>\n",
              "      <td>8.873790e+05</td>\n",
              "      <td>887379.000000</td>\n",
              "      <td>887379.000000</td>\n",
              "      <td>887379.000000</td>\n",
              "      <td>887379.000000</td>\n",
              "      <td>887379.000000</td>\n",
              "      <td>887379.000000</td>\n",
              "      <td>887379.000000</td>\n",
              "      <td>887379.000000</td>\n",
              "      <td>887379.000000</td>\n",
              "      <td>887379.000000</td>\n",
              "      <td>887379.000000</td>\n",
              "      <td>887379.000000</td>\n",
              "      <td>887379.000000</td>\n",
              "      <td>887379.000000</td>\n",
              "    </tr>\n",
              "    <tr>\n",
              "      <th>mean</th>\n",
              "      <td>3.246513e+07</td>\n",
              "      <td>1.047089e+06</td>\n",
              "      <td>6.050564</td>\n",
              "      <td>2.099130</td>\n",
              "      <td>7.502759e+04</td>\n",
              "      <td>1.196702</td>\n",
              "      <td>14755.264605</td>\n",
              "      <td>1.300045</td>\n",
              "      <td>1.000576</td>\n",
              "      <td>4.874621</td>\n",
              "      <td>1.475629</td>\n",
              "      <td>0.075987</td>\n",
              "      <td>13.246740</td>\n",
              "      <td>2.798403</td>\n",
              "      <td>18.157039</td>\n",
              "      <td>7558.826684</td>\n",
              "      <td>5757.706424</td>\n",
              "      <td>45.919243</td>\n",
              "      <td>436.717127</td>\n",
              "    </tr>\n",
              "    <tr>\n",
              "      <th>std</th>\n",
              "      <td>2.282734e+07</td>\n",
              "      <td>4.555149e+04</td>\n",
              "      <td>3.507405</td>\n",
              "      <td>0.944839</td>\n",
              "      <td>6.469815e+04</td>\n",
              "      <td>0.442542</td>\n",
              "      <td>8435.455601</td>\n",
              "      <td>0.458278</td>\n",
              "      <td>0.023990</td>\n",
              "      <td>2.381156</td>\n",
              "      <td>0.499406</td>\n",
              "      <td>0.264977</td>\n",
              "      <td>4.381867</td>\n",
              "      <td>1.312599</td>\n",
              "      <td>17.190626</td>\n",
              "      <td>7871.243336</td>\n",
              "      <td>6625.441046</td>\n",
              "      <td>409.693874</td>\n",
              "      <td>244.186593</td>\n",
              "    </tr>\n",
              "    <tr>\n",
              "      <th>min</th>\n",
              "      <td>5.473400e+04</td>\n",
              "      <td>1.012008e+06</td>\n",
              "      <td>0.500000</td>\n",
              "      <td>1.000000</td>\n",
              "      <td>0.000000e+00</td>\n",
              "      <td>1.000000</td>\n",
              "      <td>500.000000</td>\n",
              "      <td>1.000000</td>\n",
              "      <td>1.000000</td>\n",
              "      <td>1.000000</td>\n",
              "      <td>1.000000</td>\n",
              "      <td>0.000000</td>\n",
              "      <td>5.320000</td>\n",
              "      <td>1.000000</td>\n",
              "      <td>0.000000</td>\n",
              "      <td>0.000000</td>\n",
              "      <td>0.000000</td>\n",
              "      <td>0.000000</td>\n",
              "      <td>15.670000</td>\n",
              "    </tr>\n",
              "    <tr>\n",
              "      <th>25%</th>\n",
              "      <td>9.206643e+06</td>\n",
              "      <td>1.012016e+06</td>\n",
              "      <td>3.000000</td>\n",
              "      <td>1.000000</td>\n",
              "      <td>4.500000e+04</td>\n",
              "      <td>1.000000</td>\n",
              "      <td>8000.000000</td>\n",
              "      <td>1.000000</td>\n",
              "      <td>1.000000</td>\n",
              "      <td>3.000000</td>\n",
              "      <td>1.000000</td>\n",
              "      <td>0.000000</td>\n",
              "      <td>9.990000</td>\n",
              "      <td>2.000000</td>\n",
              "      <td>11.910000</td>\n",
              "      <td>1914.590000</td>\n",
              "      <td>1200.570000</td>\n",
              "      <td>0.000000</td>\n",
              "      <td>260.705000</td>\n",
              "    </tr>\n",
              "    <tr>\n",
              "      <th>50%</th>\n",
              "      <td>3.443327e+07</td>\n",
              "      <td>1.012016e+06</td>\n",
              "      <td>6.050000</td>\n",
              "      <td>3.000000</td>\n",
              "      <td>6.500000e+04</td>\n",
              "      <td>1.000000</td>\n",
              "      <td>13000.000000</td>\n",
              "      <td>1.000000</td>\n",
              "      <td>1.000000</td>\n",
              "      <td>6.000000</td>\n",
              "      <td>1.000000</td>\n",
              "      <td>0.000000</td>\n",
              "      <td>12.990000</td>\n",
              "      <td>3.000000</td>\n",
              "      <td>17.650000</td>\n",
              "      <td>4894.999117</td>\n",
              "      <td>3215.320000</td>\n",
              "      <td>0.000000</td>\n",
              "      <td>382.550000</td>\n",
              "    </tr>\n",
              "    <tr>\n",
              "      <th>75%</th>\n",
              "      <td>5.490814e+07</td>\n",
              "      <td>1.092015e+06</td>\n",
              "      <td>10.000000</td>\n",
              "      <td>3.000000</td>\n",
              "      <td>9.000000e+04</td>\n",
              "      <td>1.000000</td>\n",
              "      <td>20000.000000</td>\n",
              "      <td>2.000000</td>\n",
              "      <td>1.000000</td>\n",
              "      <td>6.000000</td>\n",
              "      <td>2.000000</td>\n",
              "      <td>0.000000</td>\n",
              "      <td>16.200000</td>\n",
              "      <td>4.000000</td>\n",
              "      <td>23.950000</td>\n",
              "      <td>10616.814230</td>\n",
              "      <td>8000.000000</td>\n",
              "      <td>0.000000</td>\n",
              "      <td>572.600000</td>\n",
              "    </tr>\n",
              "    <tr>\n",
              "      <th>max</th>\n",
              "      <td>6.861706e+07</td>\n",
              "      <td>1.122015e+06</td>\n",
              "      <td>10.000000</td>\n",
              "      <td>6.000000</td>\n",
              "      <td>9.500000e+06</td>\n",
              "      <td>3.000000</td>\n",
              "      <td>35000.000000</td>\n",
              "      <td>2.000000</td>\n",
              "      <td>2.000000</td>\n",
              "      <td>14.000000</td>\n",
              "      <td>2.000000</td>\n",
              "      <td>1.000000</td>\n",
              "      <td>28.990000</td>\n",
              "      <td>7.000000</td>\n",
              "      <td>9999.000000</td>\n",
              "      <td>57777.579870</td>\n",
              "      <td>35000.030000</td>\n",
              "      <td>33520.270000</td>\n",
              "      <td>1445.460000</td>\n",
              "    </tr>\n",
              "  </tbody>\n",
              "</table>\n",
              "</div>"
            ],
            "text/plain": [
              "                 id       final_d  emp_length_int  home_ownership_cat  \\\n",
              "count  8.873790e+05  8.873790e+05   887379.000000       887379.000000   \n",
              "mean   3.246513e+07  1.047089e+06        6.050564            2.099130   \n",
              "std    2.282734e+07  4.555149e+04        3.507405            0.944839   \n",
              "min    5.473400e+04  1.012008e+06        0.500000            1.000000   \n",
              "25%    9.206643e+06  1.012016e+06        3.000000            1.000000   \n",
              "50%    3.443327e+07  1.012016e+06        6.050000            3.000000   \n",
              "75%    5.490814e+07  1.092015e+06       10.000000            3.000000   \n",
              "max    6.861706e+07  1.122015e+06       10.000000            6.000000   \n",
              "\n",
              "         annual_inc     income_cat    loan_amount       term_cat  \\\n",
              "count  8.873790e+05  887379.000000  887379.000000  887379.000000   \n",
              "mean   7.502759e+04       1.196702   14755.264605       1.300045   \n",
              "std    6.469815e+04       0.442542    8435.455601       0.458278   \n",
              "min    0.000000e+00       1.000000     500.000000       1.000000   \n",
              "25%    4.500000e+04       1.000000    8000.000000       1.000000   \n",
              "50%    6.500000e+04       1.000000   13000.000000       1.000000   \n",
              "75%    9.000000e+04       1.000000   20000.000000       2.000000   \n",
              "max    9.500000e+06       3.000000   35000.000000       2.000000   \n",
              "\n",
              "       application_type_cat    purpose_cat  interest_payment_cat  \\\n",
              "count         887379.000000  887379.000000         887379.000000   \n",
              "mean               1.000576       4.874621              1.475629   \n",
              "std                0.023990       2.381156              0.499406   \n",
              "min                1.000000       1.000000              1.000000   \n",
              "25%                1.000000       3.000000              1.000000   \n",
              "50%                1.000000       6.000000              1.000000   \n",
              "75%                1.000000       6.000000              2.000000   \n",
              "max                2.000000      14.000000              2.000000   \n",
              "\n",
              "       loan_condition_cat  interest_rate      grade_cat            dti  \\\n",
              "count       887379.000000  887379.000000  887379.000000  887379.000000   \n",
              "mean             0.075987      13.246740       2.798403      18.157039   \n",
              "std              0.264977       4.381867       1.312599      17.190626   \n",
              "min              0.000000       5.320000       1.000000       0.000000   \n",
              "25%              0.000000       9.990000       2.000000      11.910000   \n",
              "50%              0.000000      12.990000       3.000000      17.650000   \n",
              "75%              0.000000      16.200000       4.000000      23.950000   \n",
              "max              1.000000      28.990000       7.000000    9999.000000   \n",
              "\n",
              "         total_pymnt  total_rec_prncp     recoveries    installment  \n",
              "count  887379.000000    887379.000000  887379.000000  887379.000000  \n",
              "mean     7558.826684      5757.706424      45.919243     436.717127  \n",
              "std      7871.243336      6625.441046     409.693874     244.186593  \n",
              "min         0.000000         0.000000       0.000000      15.670000  \n",
              "25%      1914.590000      1200.570000       0.000000     260.705000  \n",
              "50%      4894.999117      3215.320000       0.000000     382.550000  \n",
              "75%     10616.814230      8000.000000       0.000000     572.600000  \n",
              "max     57777.579870     35000.030000   33520.270000    1445.460000  "
            ]
          },
          "execution_count": 75,
          "metadata": {},
          "output_type": "execute_result"
        }
      ],
      "source": [
        "df.describe()"
      ]
    },
    {
      "cell_type": "code",
      "execution_count": 76,
      "metadata": {
        "id": "ybwi_UsdX5Ir",
        "outputId": "5b8c195e-d52c-45dc-ee9b-a42b66ad3dee"
      },
      "outputs": [
        {
          "data": {
            "text/html": [
              "<div>\n",
              "<style scoped>\n",
              "    .dataframe tbody tr th:only-of-type {\n",
              "        vertical-align: middle;\n",
              "    }\n",
              "\n",
              "    .dataframe tbody tr th {\n",
              "        vertical-align: top;\n",
              "    }\n",
              "\n",
              "    .dataframe thead th {\n",
              "        text-align: right;\n",
              "    }\n",
              "</style>\n",
              "<table border=\"1\" class=\"dataframe\">\n",
              "  <thead>\n",
              "    <tr style=\"text-align: right;\">\n",
              "      <th></th>\n",
              "      <th>home_ownership</th>\n",
              "      <th>income_category</th>\n",
              "      <th>term</th>\n",
              "      <th>application_type</th>\n",
              "      <th>purpose</th>\n",
              "      <th>interest_payments</th>\n",
              "      <th>loan_condition</th>\n",
              "      <th>grade</th>\n",
              "      <th>region</th>\n",
              "    </tr>\n",
              "  </thead>\n",
              "  <tbody>\n",
              "    <tr>\n",
              "      <th>count</th>\n",
              "      <td>887379</td>\n",
              "      <td>887379</td>\n",
              "      <td>887379</td>\n",
              "      <td>887379</td>\n",
              "      <td>887379</td>\n",
              "      <td>887379</td>\n",
              "      <td>887379</td>\n",
              "      <td>887379</td>\n",
              "      <td>887379</td>\n",
              "    </tr>\n",
              "    <tr>\n",
              "      <th>unique</th>\n",
              "      <td>6</td>\n",
              "      <td>3</td>\n",
              "      <td>2</td>\n",
              "      <td>2</td>\n",
              "      <td>14</td>\n",
              "      <td>2</td>\n",
              "      <td>2</td>\n",
              "      <td>7</td>\n",
              "      <td>5</td>\n",
              "    </tr>\n",
              "    <tr>\n",
              "      <th>top</th>\n",
              "      <td>MORTGAGE</td>\n",
              "      <td>Low</td>\n",
              "      <td>36 months</td>\n",
              "      <td>INDIVIDUAL</td>\n",
              "      <td>debt_consolidation</td>\n",
              "      <td>Low</td>\n",
              "      <td>Good Loan</td>\n",
              "      <td>B</td>\n",
              "      <td>leinster</td>\n",
              "    </tr>\n",
              "    <tr>\n",
              "      <th>freq</th>\n",
              "      <td>443557</td>\n",
              "      <td>729616</td>\n",
              "      <td>621125</td>\n",
              "      <td>886868</td>\n",
              "      <td>524215</td>\n",
              "      <td>465316</td>\n",
              "      <td>819950</td>\n",
              "      <td>254535</td>\n",
              "      <td>214646</td>\n",
              "    </tr>\n",
              "  </tbody>\n",
              "</table>\n",
              "</div>"
            ],
            "text/plain": [
              "       home_ownership income_category        term application_type  \\\n",
              "count          887379          887379      887379           887379   \n",
              "unique              6               3           2                2   \n",
              "top          MORTGAGE             Low   36 months       INDIVIDUAL   \n",
              "freq           443557          729616      621125           886868   \n",
              "\n",
              "                   purpose interest_payments loan_condition   grade    region  \n",
              "count               887379            887379         887379  887379    887379  \n",
              "unique                  14                 2              2       7         5  \n",
              "top     debt_consolidation               Low      Good Loan       B  leinster  \n",
              "freq                524215            465316         819950  254535    214646  "
            ]
          },
          "execution_count": 76,
          "metadata": {},
          "output_type": "execute_result"
        }
      ],
      "source": [
        "df.describe(include=object)"
      ]
    },
    {
      "cell_type": "code",
      "execution_count": 77,
      "metadata": {
        "id": "ecqrLAk_X5Is",
        "outputId": "4ebc0cee-4411-4c0b-874c-c4953f465e70"
      },
      "outputs": [
        {
          "name": "stdout",
          "output_type": "stream",
          "text": [
            "<class 'pandas.core.frame.DataFrame'>\n",
            "RangeIndex: 887379 entries, 0 to 887378\n",
            "Data columns (total 30 columns):\n",
            " #   Column                Non-Null Count   Dtype         \n",
            "---  ------                --------------   -----         \n",
            " 0   id                    887379 non-null  int64         \n",
            " 1   year                  887379 non-null  datetime64[ns]\n",
            " 2   issue_d               887379 non-null  datetime64[ns]\n",
            " 3   final_d               887379 non-null  int64         \n",
            " 4   emp_length_int        887379 non-null  float64       \n",
            " 5   home_ownership        887379 non-null  object        \n",
            " 6   home_ownership_cat    887379 non-null  int64         \n",
            " 7   income_category       887379 non-null  object        \n",
            " 8   annual_inc            887379 non-null  int64         \n",
            " 9   income_cat            887379 non-null  int64         \n",
            " 10  loan_amount           887379 non-null  int64         \n",
            " 11  term                  887379 non-null  object        \n",
            " 12  term_cat              887379 non-null  int64         \n",
            " 13  application_type      887379 non-null  object        \n",
            " 14  application_type_cat  887379 non-null  int64         \n",
            " 15  purpose               887379 non-null  object        \n",
            " 16  purpose_cat           887379 non-null  int64         \n",
            " 17  interest_payments     887379 non-null  object        \n",
            " 18  interest_payment_cat  887379 non-null  int64         \n",
            " 19  loan_condition        887379 non-null  object        \n",
            " 20  loan_condition_cat    887379 non-null  int64         \n",
            " 21  interest_rate         887379 non-null  float64       \n",
            " 22  grade                 887379 non-null  object        \n",
            " 23  grade_cat             887379 non-null  int64         \n",
            " 24  dti                   887379 non-null  float64       \n",
            " 25  total_pymnt           887379 non-null  float64       \n",
            " 26  total_rec_prncp       887379 non-null  float64       \n",
            " 27  recoveries            887379 non-null  float64       \n",
            " 28  installment           887379 non-null  float64       \n",
            " 29  region                887379 non-null  object        \n",
            "dtypes: datetime64[ns](2), float64(7), int64(12), object(9)\n",
            "memory usage: 203.1+ MB\n"
          ]
        }
      ],
      "source": [
        "df.info()"
      ]
    },
    {
      "cell_type": "code",
      "execution_count": 78,
      "metadata": {
        "id": "-BBkb7Y_X5It",
        "outputId": "f27879f5-a332-40a0-8857-54711239d723"
      },
      "outputs": [
        {
          "data": {
            "text/html": [
              "<div>\n",
              "<style scoped>\n",
              "    .dataframe tbody tr th:only-of-type {\n",
              "        vertical-align: middle;\n",
              "    }\n",
              "\n",
              "    .dataframe tbody tr th {\n",
              "        vertical-align: top;\n",
              "    }\n",
              "\n",
              "    .dataframe thead th {\n",
              "        text-align: right;\n",
              "    }\n",
              "</style>\n",
              "<table border=\"1\" class=\"dataframe\">\n",
              "  <thead>\n",
              "    <tr style=\"text-align: right;\">\n",
              "      <th></th>\n",
              "      <th>loan_condition_cat</th>\n",
              "      <th>loan_condition</th>\n",
              "      <th>interest_payments</th>\n",
              "      <th>interest_payment_cat</th>\n",
              "      <th>home_ownership</th>\n",
              "      <th>home_ownership_cat</th>\n",
              "      <th>application_type</th>\n",
              "      <th>application_type_cat</th>\n",
              "      <th>grade_cat</th>\n",
              "      <th>grade</th>\n",
              "    </tr>\n",
              "  </thead>\n",
              "  <tbody>\n",
              "    <tr>\n",
              "      <th>0</th>\n",
              "      <td>0</td>\n",
              "      <td>Good Loan</td>\n",
              "      <td>Low</td>\n",
              "      <td>1</td>\n",
              "      <td>RENT</td>\n",
              "      <td>1</td>\n",
              "      <td>INDIVIDUAL</td>\n",
              "      <td>1</td>\n",
              "      <td>2</td>\n",
              "      <td>B</td>\n",
              "    </tr>\n",
              "    <tr>\n",
              "      <th>1</th>\n",
              "      <td>1</td>\n",
              "      <td>Bad Loan</td>\n",
              "      <td>High</td>\n",
              "      <td>2</td>\n",
              "      <td>RENT</td>\n",
              "      <td>1</td>\n",
              "      <td>INDIVIDUAL</td>\n",
              "      <td>1</td>\n",
              "      <td>3</td>\n",
              "      <td>C</td>\n",
              "    </tr>\n",
              "    <tr>\n",
              "      <th>2</th>\n",
              "      <td>0</td>\n",
              "      <td>Good Loan</td>\n",
              "      <td>High</td>\n",
              "      <td>2</td>\n",
              "      <td>RENT</td>\n",
              "      <td>1</td>\n",
              "      <td>INDIVIDUAL</td>\n",
              "      <td>1</td>\n",
              "      <td>3</td>\n",
              "      <td>C</td>\n",
              "    </tr>\n",
              "    <tr>\n",
              "      <th>3</th>\n",
              "      <td>0</td>\n",
              "      <td>Good Loan</td>\n",
              "      <td>High</td>\n",
              "      <td>2</td>\n",
              "      <td>RENT</td>\n",
              "      <td>1</td>\n",
              "      <td>INDIVIDUAL</td>\n",
              "      <td>1</td>\n",
              "      <td>3</td>\n",
              "      <td>C</td>\n",
              "    </tr>\n",
              "    <tr>\n",
              "      <th>4</th>\n",
              "      <td>0</td>\n",
              "      <td>Good Loan</td>\n",
              "      <td>Low</td>\n",
              "      <td>1</td>\n",
              "      <td>RENT</td>\n",
              "      <td>1</td>\n",
              "      <td>INDIVIDUAL</td>\n",
              "      <td>1</td>\n",
              "      <td>2</td>\n",
              "      <td>B</td>\n",
              "    </tr>\n",
              "  </tbody>\n",
              "</table>\n",
              "</div>"
            ],
            "text/plain": [
              "   loan_condition_cat loan_condition interest_payments  interest_payment_cat  \\\n",
              "0                   0      Good Loan               Low                     1   \n",
              "1                   1       Bad Loan              High                     2   \n",
              "2                   0      Good Loan              High                     2   \n",
              "3                   0      Good Loan              High                     2   \n",
              "4                   0      Good Loan               Low                     1   \n",
              "\n",
              "  home_ownership  home_ownership_cat application_type  application_type_cat  \\\n",
              "0           RENT                   1       INDIVIDUAL                     1   \n",
              "1           RENT                   1       INDIVIDUAL                     1   \n",
              "2           RENT                   1       INDIVIDUAL                     1   \n",
              "3           RENT                   1       INDIVIDUAL                     1   \n",
              "4           RENT                   1       INDIVIDUAL                     1   \n",
              "\n",
              "   grade_cat grade  \n",
              "0          2     B  \n",
              "1          3     C  \n",
              "2          3     C  \n",
              "3          3     C  \n",
              "4          2     B  "
            ]
          },
          "execution_count": 78,
          "metadata": {},
          "output_type": "execute_result"
        }
      ],
      "source": [
        "df[['loan_condition_cat', 'loan_condition', 'interest_payments', 'interest_payment_cat', 'home_ownership', 'home_ownership_cat', \n",
        "'application_type', 'application_type_cat', 'grade_cat', 'grade']].head()"
      ]
    },
    {
      "cell_type": "code",
      "execution_count": 79,
      "metadata": {
        "id": "eEzO-vcbX5Iu",
        "outputId": "5995dcbd-c35d-4db4-9be9-0e8e66221b09"
      },
      "outputs": [
        {
          "data": {
            "text/plain": [
              "id                      0\n",
              "year                    0\n",
              "issue_d                 0\n",
              "final_d                 0\n",
              "emp_length_int          0\n",
              "home_ownership          0\n",
              "home_ownership_cat      0\n",
              "income_category         0\n",
              "annual_inc              0\n",
              "income_cat              0\n",
              "loan_amount             0\n",
              "term                    0\n",
              "term_cat                0\n",
              "application_type        0\n",
              "application_type_cat    0\n",
              "purpose                 0\n",
              "purpose_cat             0\n",
              "interest_payments       0\n",
              "interest_payment_cat    0\n",
              "loan_condition          0\n",
              "loan_condition_cat      0\n",
              "interest_rate           0\n",
              "grade                   0\n",
              "grade_cat               0\n",
              "dti                     0\n",
              "total_pymnt             0\n",
              "total_rec_prncp         0\n",
              "recoveries              0\n",
              "installment             0\n",
              "region                  0\n",
              "dtype: int64"
            ]
          },
          "execution_count": 79,
          "metadata": {},
          "output_type": "execute_result"
        }
      ],
      "source": [
        "df.isnull().sum()"
      ]
    },
    {
      "cell_type": "code",
      "execution_count": 80,
      "metadata": {
        "id": "Mq2gIwZrX5Iv",
        "outputId": "8802b5f7-c974-4f00-de55-c26d6b68ccd7"
      },
      "outputs": [
        {
          "data": {
            "text/plain": [
              "0    819950\n",
              "1     67429\n",
              "Name: loan_condition_cat, dtype: int64"
            ]
          },
          "execution_count": 80,
          "metadata": {},
          "output_type": "execute_result"
        }
      ],
      "source": [
        "## Check how imbalanced TARGET is\n",
        "df['loan_condition_cat'].value_counts()"
      ]
    },
    {
      "cell_type": "code",
      "execution_count": 81,
      "metadata": {
        "id": "gd9BUCFiX5Iw",
        "outputId": "7e9b31cb-9b8b-4516-ee7a-58f1a52c2a79"
      },
      "outputs": [
        {
          "data": {
            "image/png": "[encoded data removed]",
            "text/plain": [
              "<Figure size 1296x576 with 2 Axes>"
            ]
          },
          "metadata": {
            "needs_background": "light"
          },
          "output_type": "display_data"
        }
      ],
      "source": [
        "f,ax=plt.subplots(1,2,figsize=(18,8))\n",
        "df['loan_condition_cat'].value_counts().plot.pie(explode=[0,0.1],autopct='%1.1f%%',ax=ax[0],shadow=True)\n",
        "ax[0].set_title('loan_condition_cat')\n",
        "ax[0].set_ylabel('')\n",
        "sns.countplot('loan_condition_cat',data=df,ax=ax[1])\n",
        "ax[1].set_title('loan_condition_cat')\n",
        "plt.show()"
      ]
    },
    {
      "cell_type": "code",
      "execution_count": 82,
      "metadata": {
        "id": "rPswEGLpX5Ix",
        "outputId": "7b2ea790-0937-4ba9-fc54-d5189369244c"
      },
      "outputs": [
        {
          "data": {
            "text/plain": [
              "home_ownership  loan_condition\n",
              "ANY             Good Loan              3\n",
              "MORTGAGE        Bad Loan           29699\n",
              "                Good Loan         413858\n",
              "NONE            Bad Loan               8\n",
              "                Good Loan             42\n",
              "OTHER           Bad Loan              38\n",
              "                Good Loan            144\n",
              "OWN             Bad Loan            6293\n",
              "                Good Loan          81177\n",
              "RENT            Bad Loan           31391\n",
              "                Good Loan         324726\n",
              "Name: loan_condition, dtype: int64"
            ]
          },
          "execution_count": 82,
          "metadata": {},
          "output_type": "execute_result"
        }
      ],
      "source": [
        "df.groupby(['home_ownership','loan_condition'])['loan_condition'].count()"
      ]
    },
    {
      "cell_type": "code",
      "execution_count": 83,
      "metadata": {
        "id": "Zv4d12UkX5Ix",
        "outputId": "8972c502-5b39-4e6c-e918-56bdb5c8c807"
      },
      "outputs": [
        {
          "data": {
            "text/plain": [
              "home_ownership  loan_condition  income_category\n",
              "ANY             Good Loan       Low                     3\n",
              "MORTGAGE        Bad Loan        High                  503\n",
              "                                Low                 24358\n",
              "                                Medium               4838\n",
              "                Good Loan       High                11100\n",
              "                                Low                313096\n",
              "                                Medium              89662\n",
              "NONE            Bad Loan        Low                     8\n",
              "                Good Loan       Low                    38\n",
              "                                Medium                  4\n",
              "OTHER           Bad Loan        Low                    37\n",
              "                                Medium                  1\n",
              "                Good Loan       High                    3\n",
              "                                Low                   130\n",
              "                                Medium                 11\n",
              "OWN             Bad Loan        High                   85\n",
              "                                Low                  5626\n",
              "                                Medium                582\n",
              "                Good Loan       High                 1569\n",
              "                                Low                 69082\n",
              "                                Medium              10526\n",
              "RENT            Bad Loan        High                  220\n",
              "                                Low                 28836\n",
              "                                Medium               2335\n",
              "                Good Loan       High                 3306\n",
              "                                Low                288402\n",
              "                                Medium              33018\n",
              "Name: loan_condition, dtype: int64"
            ]
          },
          "execution_count": 83,
          "metadata": {},
          "output_type": "execute_result"
        }
      ],
      "source": [
        "df.groupby(['home_ownership','loan_condition', 'income_category'])['loan_condition'].count()"
      ]
    },
    {
      "cell_type": "code",
      "execution_count": 84,
      "metadata": {
        "id": "Nj-t1O5vX5Iy",
        "outputId": "10b0de39-e4a0-4814-9e16-a9cb3ac518b4"
      },
      "outputs": [
        {
          "data": {
            "text/plain": [
              "grade_cat  loan_condition\n",
              "1          Bad Loan            3663\n",
              "           Good Loan         144539\n",
              "2          Bad Loan           13456\n",
              "           Good Loan         241079\n",
              "3          Bad Loan           19054\n",
              "           Good Loan         226806\n",
              "4          Bad Loan           15859\n",
              "           Good Loan         123683\n",
              "5          Bad Loan            9745\n",
              "           Good Loan          60960\n",
              "6          Bad Loan            4383\n",
              "           Good Loan          18663\n",
              "7          Bad Loan            1269\n",
              "           Good Loan           4220\n",
              "Name: loan_condition, dtype: int64"
            ]
          },
          "execution_count": 84,
          "metadata": {},
          "output_type": "execute_result"
        }
      ],
      "source": [
        "df.groupby(['grade_cat', 'loan_condition'])['loan_condition'].count()"
      ]
    },
    {
      "cell_type": "code",
      "execution_count": 85,
      "metadata": {
        "id": "kYtpGdirX5Iy"
      },
      "outputs": [],
      "source": [
        "def analyze(column):\n",
        "  data = {}\n",
        "  data['Column'] = column.name\n",
        "  data['Mean'] = st.mean(column)\n",
        "  data['Mode'] = Counter(column).most_common()[0][0]\n",
        "  data['Median'] = st.median(column)\n",
        "  data['Variance'] = st.variance(column)\n",
        "  data['Standard Deviation'] = st.stdev(column)\n",
        "  data['Skew'] = column.skew()\n",
        "  return pd.DataFrame([data])\n",
        "\n",
        "def dataframe_analysis():\n",
        "  result = pd.DataFrame()\n",
        "\n",
        "  for col in df_num.columns:\n",
        "    analysis = analyze(df[col])\n",
        "    result = result.append(analysis)\n",
        "\n",
        "  return result.reset_index(drop=True)\n",
        "\n",
        "def plot_distribution(column):\n",
        "  f, (ax_box, ax_hist) = plt.subplots(nrows=2, \n",
        "                                      sharex=True, \n",
        "                                      figsize=(8, 5),\n",
        "                                      gridspec_kw={\"height_ratios\": {0.2, 1}})\n",
        "  \n",
        "  info = analyze(column)\n",
        "  mean = info['Mean'].values[0]\n",
        "  median = info['Median'].values[0]\n",
        "  mode = info['Mode'].values[0]\n",
        "\n",
        "  sns.boxplot(x=column, ax=ax_box)\n",
        "  ax_box.axvline(mean, color='r', linestyle='--')\n",
        "  ax_box.axvline(median, color='g', linestyle=':')\n",
        "  ax_box.axvline(mode, color='b', linestyle='-')\n",
        "  ax_box.set(xlabel='')\n",
        "\n",
        "  sns.histplot(x=column, ax=ax_hist, kde=True)\n",
        "  ax_hist.axvline(mean, color='r', linestyle='--')\n",
        "  ax_hist.axvline(median, color='g', linestyle=':')\n",
        "  ax_hist.axvline(mode, color='b', linestyle='-')\n",
        "\n",
        "  plt.legend({'Mean':mean, 'Median':median, 'Mode':mode})\n",
        "  plt.show()"
      ]
    },
    {
      "cell_type": "code",
      "execution_count": 86,
      "metadata": {
        "id": "pZ761WePX5Iz",
        "outputId": "5059bf7e-8840-4b04-9fb2-420a755ae5f7"
      },
      "outputs": [
        {
          "data": {
            "text/html": [
              "<div>\n",
              "<style scoped>\n",
              "    .dataframe tbody tr th:only-of-type {\n",
              "        vertical-align: middle;\n",
              "    }\n",
              "\n",
              "    .dataframe tbody tr th {\n",
              "        vertical-align: top;\n",
              "    }\n",
              "\n",
              "    .dataframe thead th {\n",
              "        text-align: right;\n",
              "    }\n",
              "</style>\n",
              "<table border=\"1\" class=\"dataframe\">\n",
              "  <thead>\n",
              "    <tr style=\"text-align: right;\">\n",
              "      <th></th>\n",
              "      <th>emp_length_int</th>\n",
              "      <th>home_ownership_cat</th>\n",
              "      <th>annual_inc</th>\n",
              "      <th>income_cat</th>\n",
              "      <th>loan_amount</th>\n",
              "      <th>term_cat</th>\n",
              "      <th>application_type_cat</th>\n",
              "      <th>purpose_cat</th>\n",
              "      <th>interest_payment_cat</th>\n",
              "      <th>loan_condition_cat</th>\n",
              "      <th>interest_rate</th>\n",
              "      <th>grade_cat</th>\n",
              "      <th>dti</th>\n",
              "      <th>total_pymnt</th>\n",
              "      <th>total_rec_prncp</th>\n",
              "      <th>recoveries</th>\n",
              "      <th>installment</th>\n",
              "    </tr>\n",
              "  </thead>\n",
              "  <tbody>\n",
              "    <tr>\n",
              "      <th>0</th>\n",
              "      <td>10.0</td>\n",
              "      <td>1</td>\n",
              "      <td>24000</td>\n",
              "      <td>1</td>\n",
              "      <td>5000</td>\n",
              "      <td>1</td>\n",
              "      <td>1</td>\n",
              "      <td>1</td>\n",
              "      <td>1</td>\n",
              "      <td>0</td>\n",
              "      <td>10.65</td>\n",
              "      <td>2</td>\n",
              "      <td>27.65</td>\n",
              "      <td>5861.071414</td>\n",
              "      <td>5000.00</td>\n",
              "      <td>0.00</td>\n",
              "      <td>162.87</td>\n",
              "    </tr>\n",
              "    <tr>\n",
              "      <th>1</th>\n",
              "      <td>0.5</td>\n",
              "      <td>1</td>\n",
              "      <td>30000</td>\n",
              "      <td>1</td>\n",
              "      <td>2500</td>\n",
              "      <td>2</td>\n",
              "      <td>1</td>\n",
              "      <td>2</td>\n",
              "      <td>2</td>\n",
              "      <td>1</td>\n",
              "      <td>15.27</td>\n",
              "      <td>3</td>\n",
              "      <td>1.00</td>\n",
              "      <td>1008.710000</td>\n",
              "      <td>456.46</td>\n",
              "      <td>117.08</td>\n",
              "      <td>59.83</td>\n",
              "    </tr>\n",
              "    <tr>\n",
              "      <th>2</th>\n",
              "      <td>10.0</td>\n",
              "      <td>1</td>\n",
              "      <td>12252</td>\n",
              "      <td>1</td>\n",
              "      <td>2400</td>\n",
              "      <td>1</td>\n",
              "      <td>1</td>\n",
              "      <td>3</td>\n",
              "      <td>2</td>\n",
              "      <td>0</td>\n",
              "      <td>15.96</td>\n",
              "      <td>3</td>\n",
              "      <td>8.72</td>\n",
              "      <td>3003.653644</td>\n",
              "      <td>2400.00</td>\n",
              "      <td>0.00</td>\n",
              "      <td>84.33</td>\n",
              "    </tr>\n",
              "    <tr>\n",
              "      <th>3</th>\n",
              "      <td>10.0</td>\n",
              "      <td>1</td>\n",
              "      <td>49200</td>\n",
              "      <td>1</td>\n",
              "      <td>10000</td>\n",
              "      <td>1</td>\n",
              "      <td>1</td>\n",
              "      <td>4</td>\n",
              "      <td>2</td>\n",
              "      <td>0</td>\n",
              "      <td>13.49</td>\n",
              "      <td>3</td>\n",
              "      <td>20.00</td>\n",
              "      <td>12226.302210</td>\n",
              "      <td>10000.00</td>\n",
              "      <td>0.00</td>\n",
              "      <td>339.31</td>\n",
              "    </tr>\n",
              "    <tr>\n",
              "      <th>4</th>\n",
              "      <td>1.0</td>\n",
              "      <td>1</td>\n",
              "      <td>80000</td>\n",
              "      <td>1</td>\n",
              "      <td>3000</td>\n",
              "      <td>2</td>\n",
              "      <td>1</td>\n",
              "      <td>4</td>\n",
              "      <td>1</td>\n",
              "      <td>0</td>\n",
              "      <td>12.69</td>\n",
              "      <td>2</td>\n",
              "      <td>17.94</td>\n",
              "      <td>3242.170000</td>\n",
              "      <td>2233.10</td>\n",
              "      <td>0.00</td>\n",
              "      <td>67.79</td>\n",
              "    </tr>\n",
              "  </tbody>\n",
              "</table>\n",
              "</div>"
            ],
            "text/plain": [
              "   emp_length_int  home_ownership_cat  annual_inc  income_cat  loan_amount  \\\n",
              "0            10.0                   1       24000           1         5000   \n",
              "1             0.5                   1       30000           1         2500   \n",
              "2            10.0                   1       12252           1         2400   \n",
              "3            10.0                   1       49200           1        10000   \n",
              "4             1.0                   1       80000           1         3000   \n",
              "\n",
              "   term_cat  application_type_cat  purpose_cat  interest_payment_cat  \\\n",
              "0         1                     1            1                     1   \n",
              "1         2                     1            2                     2   \n",
              "2         1                     1            3                     2   \n",
              "3         1                     1            4                     2   \n",
              "4         2                     1            4                     1   \n",
              "\n",
              "   loan_condition_cat  interest_rate  grade_cat    dti   total_pymnt  \\\n",
              "0                   0          10.65          2  27.65   5861.071414   \n",
              "1                   1          15.27          3   1.00   1008.710000   \n",
              "2                   0          15.96          3   8.72   3003.653644   \n",
              "3                   0          13.49          3  20.00  12226.302210   \n",
              "4                   0          12.69          2  17.94   3242.170000   \n",
              "\n",
              "   total_rec_prncp  recoveries  installment  \n",
              "0          5000.00        0.00       162.87  \n",
              "1           456.46      117.08        59.83  \n",
              "2          2400.00        0.00        84.33  \n",
              "3         10000.00        0.00       339.31  \n",
              "4          2233.10        0.00        67.79  "
            ]
          },
          "execution_count": 86,
          "metadata": {},
          "output_type": "execute_result"
        }
      ],
      "source": [
        "numerics = ['int16', 'int32', 'int64', 'float16', 'float32', 'float64']\n",
        "df_num = df.select_dtypes(include=numerics)\n",
        "df_num.drop(['id', 'final_d'], axis=1, inplace=True)\n",
        "df_num.head()"
      ]
    },
    {
      "cell_type": "code",
      "execution_count": 87,
      "metadata": {
        "id": "5qD8DbhAX5Iz",
        "outputId": "0450dde1-ff43-42fe-a969-1d587d52d474"
      },
      "outputs": [
        {
          "name": "stdout",
          "output_type": "stream",
          "text": [
            "<class 'pandas.core.frame.DataFrame'>\n",
            "RangeIndex: 887379 entries, 0 to 887378\n",
            "Data columns (total 17 columns):\n",
            " #   Column                Non-Null Count   Dtype  \n",
            "---  ------                --------------   -----  \n",
            " 0   emp_length_int        887379 non-null  float64\n",
            " 1   home_ownership_cat    887379 non-null  int64  \n",
            " 2   annual_inc            887379 non-null  int64  \n",
            " 3   income_cat            887379 non-null  int64  \n",
            " 4   loan_amount           887379 non-null  int64  \n",
            " 5   term_cat              887379 non-null  int64  \n",
            " 6   application_type_cat  887379 non-null  int64  \n",
            " 7   purpose_cat           887379 non-null  int64  \n",
            " 8   interest_payment_cat  887379 non-null  int64  \n",
            " 9   loan_condition_cat    887379 non-null  int64  \n",
            " 10  interest_rate         887379 non-null  float64\n",
            " 11  grade_cat             887379 non-null  int64  \n",
            " 12  dti                   887379 non-null  float64\n",
            " 13  total_pymnt           887379 non-null  float64\n",
            " 14  total_rec_prncp       887379 non-null  float64\n",
            " 15  recoveries            887379 non-null  float64\n",
            " 16  installment           887379 non-null  float64\n",
            "dtypes: float64(7), int64(10)\n",
            "memory usage: 115.1 MB\n"
          ]
        }
      ],
      "source": [
        "df_num.info()"
      ]
    },
    {
      "cell_type": "code",
      "execution_count": 88,
      "metadata": {
        "id": "IKTnbEqpX5I0",
        "outputId": "c5a2564f-663d-41f5-a0e3-6f049b9171f2"
      },
      "outputs": [
        {
          "data": {
            "text/html": [
              "<div>\n",
              "<style scoped>\n",
              "    .dataframe tbody tr th:only-of-type {\n",
              "        vertical-align: middle;\n",
              "    }\n",
              "\n",
              "    .dataframe tbody tr th {\n",
              "        vertical-align: top;\n",
              "    }\n",
              "\n",
              "    .dataframe thead th {\n",
              "        text-align: right;\n",
              "    }\n",
              "</style>\n",
              "<table border=\"1\" class=\"dataframe\">\n",
              "  <thead>\n",
              "    <tr style=\"text-align: right;\">\n",
              "      <th></th>\n",
              "      <th>Column</th>\n",
              "      <th>Mean</th>\n",
              "      <th>Mode</th>\n",
              "      <th>Median</th>\n",
              "      <th>Variance</th>\n",
              "      <th>Standard Deviation</th>\n",
              "      <th>Skew</th>\n",
              "    </tr>\n",
              "  </thead>\n",
              "  <tbody>\n",
              "    <tr>\n",
              "      <th>0</th>\n",
              "      <td>emp_length_int</td>\n",
              "      <td>6.050564</td>\n",
              "      <td>10.00</td>\n",
              "      <td>6.050000</td>\n",
              "      <td>1.230189e+01</td>\n",
              "      <td>3.507405</td>\n",
              "      <td>-0.207943</td>\n",
              "    </tr>\n",
              "    <tr>\n",
              "      <th>1</th>\n",
              "      <td>home_ownership_cat</td>\n",
              "      <td>2.099130</td>\n",
              "      <td>3.00</td>\n",
              "      <td>3.000000</td>\n",
              "      <td>8.927198e-01</td>\n",
              "      <td>0.944839</td>\n",
              "      <td>-0.195079</td>\n",
              "    </tr>\n",
              "    <tr>\n",
              "      <th>2</th>\n",
              "      <td>annual_inc</td>\n",
              "      <td>75027.587860</td>\n",
              "      <td>60000.00</td>\n",
              "      <td>65000.000000</td>\n",
              "      <td>4.185851e+09</td>\n",
              "      <td>64698.154281</td>\n",
              "      <td>44.478587</td>\n",
              "    </tr>\n",
              "    <tr>\n",
              "      <th>3</th>\n",
              "      <td>income_cat</td>\n",
              "      <td>1.196702</td>\n",
              "      <td>1.00</td>\n",
              "      <td>1.000000</td>\n",
              "      <td>1.958432e-01</td>\n",
              "      <td>0.442542</td>\n",
              "      <td>2.157894</td>\n",
              "    </tr>\n",
              "    <tr>\n",
              "      <th>4</th>\n",
              "      <td>loan_amount</td>\n",
              "      <td>14755.264605</td>\n",
              "      <td>10000.00</td>\n",
              "      <td>13000.000000</td>\n",
              "      <td>7.115691e+07</td>\n",
              "      <td>8435.455601</td>\n",
              "      <td>0.681683</td>\n",
              "    </tr>\n",
              "    <tr>\n",
              "      <th>5</th>\n",
              "      <td>term_cat</td>\n",
              "      <td>1.300045</td>\n",
              "      <td>1.00</td>\n",
              "      <td>1.000000</td>\n",
              "      <td>2.100184e-01</td>\n",
              "      <td>0.458278</td>\n",
              "      <td>0.872637</td>\n",
              "    </tr>\n",
              "    <tr>\n",
              "      <th>6</th>\n",
              "      <td>application_type_cat</td>\n",
              "      <td>1.000576</td>\n",
              "      <td>1.00</td>\n",
              "      <td>1.000000</td>\n",
              "      <td>5.755222e-04</td>\n",
              "      <td>0.023990</td>\n",
              "      <td>41.636045</td>\n",
              "    </tr>\n",
              "    <tr>\n",
              "      <th>7</th>\n",
              "      <td>purpose_cat</td>\n",
              "      <td>4.874621</td>\n",
              "      <td>6.00</td>\n",
              "      <td>6.000000</td>\n",
              "      <td>5.669903e+00</td>\n",
              "      <td>2.381156</td>\n",
              "      <td>-0.512566</td>\n",
              "    </tr>\n",
              "    <tr>\n",
              "      <th>8</th>\n",
              "      <td>interest_payment_cat</td>\n",
              "      <td>1.475629</td>\n",
              "      <td>1.00</td>\n",
              "      <td>1.000000</td>\n",
              "      <td>2.494063e-01</td>\n",
              "      <td>0.499406</td>\n",
              "      <td>0.097601</td>\n",
              "    </tr>\n",
              "    <tr>\n",
              "      <th>9</th>\n",
              "      <td>loan_condition_cat</td>\n",
              "      <td>0.075987</td>\n",
              "      <td>0.00</td>\n",
              "      <td>0.000000</td>\n",
              "      <td>7.021280e-02</td>\n",
              "      <td>0.264977</td>\n",
              "      <td>3.200386</td>\n",
              "    </tr>\n",
              "    <tr>\n",
              "      <th>10</th>\n",
              "      <td>interest_rate</td>\n",
              "      <td>13.246740</td>\n",
              "      <td>10.99</td>\n",
              "      <td>12.990000</td>\n",
              "      <td>1.920076e+01</td>\n",
              "      <td>4.381867</td>\n",
              "      <td>0.429481</td>\n",
              "    </tr>\n",
              "    <tr>\n",
              "      <th>11</th>\n",
              "      <td>grade_cat</td>\n",
              "      <td>2.798403</td>\n",
              "      <td>2.00</td>\n",
              "      <td>3.000000</td>\n",
              "      <td>1.722917e+00</td>\n",
              "      <td>1.312599</td>\n",
              "      <td>0.583263</td>\n",
              "    </tr>\n",
              "    <tr>\n",
              "      <th>12</th>\n",
              "      <td>dti</td>\n",
              "      <td>18.157039</td>\n",
              "      <td>19.20</td>\n",
              "      <td>17.650000</td>\n",
              "      <td>2.955176e+02</td>\n",
              "      <td>17.190626</td>\n",
              "      <td>441.486775</td>\n",
              "    </tr>\n",
              "    <tr>\n",
              "      <th>13</th>\n",
              "      <td>total_pymnt</td>\n",
              "      <td>7558.826684</td>\n",
              "      <td>0.00</td>\n",
              "      <td>4894.999117</td>\n",
              "      <td>6.195647e+07</td>\n",
              "      <td>7871.243336</td>\n",
              "      <td>1.788894</td>\n",
              "    </tr>\n",
              "    <tr>\n",
              "      <th>14</th>\n",
              "      <td>total_rec_prncp</td>\n",
              "      <td>5757.706424</td>\n",
              "      <td>0.00</td>\n",
              "      <td>3215.320000</td>\n",
              "      <td>4.389647e+07</td>\n",
              "      <td>6625.441046</td>\n",
              "      <td>1.935036</td>\n",
              "    </tr>\n",
              "    <tr>\n",
              "      <th>15</th>\n",
              "      <td>recoveries</td>\n",
              "      <td>45.919243</td>\n",
              "      <td>0.00</td>\n",
              "      <td>0.000000</td>\n",
              "      <td>1.678491e+05</td>\n",
              "      <td>409.693874</td>\n",
              "      <td>18.061839</td>\n",
              "    </tr>\n",
              "    <tr>\n",
              "      <th>16</th>\n",
              "      <td>installment</td>\n",
              "      <td>436.717127</td>\n",
              "      <td>327.34</td>\n",
              "      <td>382.550000</td>\n",
              "      <td>5.962709e+04</td>\n",
              "      <td>244.186593</td>\n",
              "      <td>0.936952</td>\n",
              "    </tr>\n",
              "  </tbody>\n",
              "</table>\n",
              "</div>"
            ],
            "text/plain": [
              "                  Column          Mean      Mode        Median      Variance  \\\n",
              "0         emp_length_int      6.050564     10.00      6.050000  1.230189e+01   \n",
              "1     home_ownership_cat      2.099130      3.00      3.000000  8.927198e-01   \n",
              "2             annual_inc  75027.587860  60000.00  65000.000000  4.185851e+09   \n",
              "3             income_cat      1.196702      1.00      1.000000  1.958432e-01   \n",
              "4            loan_amount  14755.264605  10000.00  13000.000000  7.115691e+07   \n",
              "5               term_cat      1.300045      1.00      1.000000  2.100184e-01   \n",
              "6   application_type_cat      1.000576      1.00      1.000000  5.755222e-04   \n",
              "7            purpose_cat      4.874621      6.00      6.000000  5.669903e+00   \n",
              "8   interest_payment_cat      1.475629      1.00      1.000000  2.494063e-01   \n",
              "9     loan_condition_cat      0.075987      0.00      0.000000  7.021280e-02   \n",
              "10         interest_rate     13.246740     10.99     12.990000  1.920076e+01   \n",
              "11             grade_cat      2.798403      2.00      3.000000  1.722917e+00   \n",
              "12                   dti     18.157039     19.20     17.650000  2.955176e+02   \n",
              "13           total_pymnt   7558.826684      0.00   4894.999117  6.195647e+07   \n",
              "14       total_rec_prncp   5757.706424      0.00   3215.320000  4.389647e+07   \n",
              "15            recoveries     45.919243      0.00      0.000000  1.678491e+05   \n",
              "16           installment    436.717127    327.34    382.550000  5.962709e+04   \n",
              "\n",
              "    Standard Deviation        Skew  \n",
              "0             3.507405   -0.207943  \n",
              "1             0.944839   -0.195079  \n",
              "2         64698.154281   44.478587  \n",
              "3             0.442542    2.157894  \n",
              "4          8435.455601    0.681683  \n",
              "5             0.458278    0.872637  \n",
              "6             0.023990   41.636045  \n",
              "7             2.381156   -0.512566  \n",
              "8             0.499406    0.097601  \n",
              "9             0.264977    3.200386  \n",
              "10            4.381867    0.429481  \n",
              "11            1.312599    0.583263  \n",
              "12           17.190626  441.486775  \n",
              "13         7871.243336    1.788894  \n",
              "14         6625.441046    1.935036  \n",
              "15          409.693874   18.061839  \n",
              "16          244.186593    0.936952  "
            ]
          },
          "execution_count": 88,
          "metadata": {},
          "output_type": "execute_result"
        }
      ],
      "source": [
        "dataframe_analysis()"
      ]
    },
    {
      "cell_type": "markdown",
      "metadata": {},
      "source": [
        "### Plotting"
      ]
    },
    {
      "cell_type": "code",
      "execution_count": 89,
      "metadata": {
        "id": "GniwrNZiX5I0",
        "outputId": "5f775a54-2670-4842-cee3-2ac9e38f624e"
      },
      "outputs": [
        {
          "data": {
            "image/png": "[encoded data removed]",
            "text/plain": [
              "<Figure size 576x360 with 2 Axes>"
            ]
          },
          "metadata": {
            "needs_background": "light"
          },
          "output_type": "display_data"
        }
      ],
      "source": [
        "plot_distribution(df['purpose_cat'])"
      ]
    },
    {
      "cell_type": "code",
      "execution_count": 90,
      "metadata": {
        "id": "jZ52cZ_2X5I1",
        "outputId": "7df65129-22d3-4797-ccb8-e7714beb5181"
      },
      "outputs": [
        {
          "data": {
            "image/png": "[encoded data removed]",
            "text/plain": [
              "<Figure size 576x360 with 2 Axes>"
            ]
          },
          "metadata": {
            "needs_background": "light"
          },
          "output_type": "display_data"
        }
      ],
      "source": [
        "plot_distribution(df['home_ownership_cat'])"
      ]
    },
    {
      "cell_type": "code",
      "execution_count": 91,
      "metadata": {
        "id": "xHLsQPJ7X5I1",
        "outputId": "e3baa1db-ff97-471c-fa68-ecdd188ca42e"
      },
      "outputs": [
        {
          "data": {
            "image/png": "[encoded data removed]",
            "text/plain": [
              "<Figure size 576x360 with 2 Axes>"
            ]
          },
          "metadata": {
            "needs_background": "light"
          },
          "output_type": "display_data"
        }
      ],
      "source": [
        "plot_distribution(df['annual_inc'])"
      ]
    },
    {
      "cell_type": "code",
      "execution_count": 92,
      "metadata": {
        "id": "oMm3DhEuX5I2",
        "outputId": "cb5027b1-e9c7-4c03-8d3c-73fd4ce91c3b"
      },
      "outputs": [
        {
          "data": {
            "image/png": "[encoded data removed]",
            "text/plain": [
              "<Figure size 576x360 with 2 Axes>"
            ]
          },
          "metadata": {
            "needs_background": "light"
          },
          "output_type": "display_data"
        }
      ],
      "source": [
        "plot_distribution(df['loan_amount'])"
      ]
    },
    {
      "cell_type": "code",
      "execution_count": 93,
      "metadata": {
        "id": "SEANqlQcX5I2",
        "outputId": "01564854-cb2f-443e-cc3d-a98c080d3b6b"
      },
      "outputs": [
        {
          "data": {
            "image/png": "[encoded data removed]",
            "text/plain": [
              "<Figure size 576x360 with 2 Axes>"
            ]
          },
          "metadata": {
            "needs_background": "light"
          },
          "output_type": "display_data"
        }
      ],
      "source": [
        "plot_distribution(df['interest_rate'])"
      ]
    },
    {
      "cell_type": "code",
      "execution_count": 94,
      "metadata": {
        "id": "rGtOjz8DX5I2",
        "outputId": "ace1ee8a-e750-4b44-c0a4-4a50ac3a08ea"
      },
      "outputs": [
        {
          "data": {
            "image/png": "[encoded data removed]",
            "text/plain": [
              "<Figure size 576x360 with 2 Axes>"
            ]
          },
          "metadata": {
            "needs_background": "light"
          },
          "output_type": "display_data"
        }
      ],
      "source": [
        "plot_distribution(df['recoveries'])"
      ]
    },
    {
      "cell_type": "code",
      "execution_count": 95,
      "metadata": {
        "id": "3zY92VbYX5I3",
        "outputId": "073eda13-0a09-4a78-8470-cd90a1b12334"
      },
      "outputs": [
        {
          "data": {
            "image/png": "[encoded data removed]",
            "text/plain": [
              "<Figure size 576x360 with 2 Axes>"
            ]
          },
          "metadata": {
            "needs_background": "light"
          },
          "output_type": "display_data"
        }
      ],
      "source": [
        "plot_distribution(df['installment'])"
      ]
    },
    {
      "cell_type": "code",
      "execution_count": 96,
      "metadata": {
        "id": "vI81iMrbX5I3",
        "outputId": "c9e03d63-64da-4135-dd9e-6ad0dbb466ee"
      },
      "outputs": [
        {
          "data": {
            "image/png": "[encoded data removed]",
            "text/plain": [
              "<Figure size 576x360 with 2 Axes>"
            ]
          },
          "metadata": {
            "needs_background": "light"
          },
          "output_type": "display_data"
        }
      ],
      "source": [
        "plot_distribution(df['loan_condition_cat'])"
      ]
    },
    {
      "cell_type": "code",
      "execution_count": 97,
      "metadata": {
        "id": "usNKGvWPX5I3"
      },
      "outputs": [],
      "source": [
        "df_labeled = df.drop(['id','final_d', 'year','loan_condition', 'issue_d', 'home_ownership', 'income_category', \n",
        "              'term', 'application_type', 'purpose', 'interest_payments', 'loan_condition', 'grade', 'region'],axis=1 )"
      ]
    },
    {
      "cell_type": "code",
      "execution_count": 98,
      "metadata": {
        "id": "tZTyOPO0X5I4",
        "outputId": "8d74d464-2d0c-48c2-d89a-878dc6f6b354"
      },
      "outputs": [
        {
          "data": {
            "image/png": "[encoded data removed]",
            "text/plain": [
              "<Figure size 1440x1152 with 2 Axes>"
            ]
          },
          "metadata": {
            "needs_background": "light"
          },
          "output_type": "display_data"
        }
      ],
      "source": [
        "sns.heatmap(df_labeled.corr(),annot=True,cmap='RdYlGn',linewidths=0.2) #df.corr()-->correlation matrix\n",
        "fig=plt.gcf()\n",
        "fig.set_size_inches(20, 16)\n",
        "plt.show()"
      ]
    },
    {
      "cell_type": "markdown",
      "metadata": {
        "id": "1CdfdFQhX5I4"
      },
      "source": [
        "## Hasil temuan dari EDA :\n",
        "\n",
        "1. Terdapat data imbalance pada target di fitur ```loan_condition_cat```. Proporsinya adalah 92.4% untuk data major (good loan) dan 7.6% untuk data minor (default/bad loan). Kita akan mempersiapkan skenario untuk melakukan handling pada imbalanced data ini\n",
        "2. Terdapat  fitur yang tidak relate dengan target variabel yaitu ```id```. Kita akan drop fitur ini\n",
        "3. Encoding fitur ```region```.\n",
        "3. Fitur ```year```, ```final_d``` dengan fitur ```issue_d``` adalah timestamp dan berdasarkan domain knowledge fitur ini tidak relate dengan target variabel (apalagi karena machine learning task tidak berfokus pada time series analysis) dan kita bisa drop fitur ini.\n",
        "3. Terdapat fitur yang redundant karena merupakan hasil encoding dari fitur yang lain seperti ```loan_condition_cat``` adalah hasil encoding dari ```loan_condition```, ```interest_payment_cat``` dengan ```interest_payment```, dan lain-lain. Kita akan drop fitur yang mempunyai makna yang sama ini.\n",
        "4. Berdasarkan appendix dan base domain knowledge, fitur ```recoveries``` ter-generate ketika borrower telah default. Karena objektif kita yang utama adalah memprediksi peluang default maka fitur ini akan menjadi counterintuitive. Kita akan drop fitur ini"
      ]
    },
    {
      "cell_type": "markdown",
      "metadata": {
        "id": "RhhZf6NDX5I4"
      },
      "source": [
        "## Preprocessing"
      ]
    },
    {
      "cell_type": "code",
      "execution_count": 99,
      "metadata": {
        "id": "bA-v_WMeX5I4"
      },
      "outputs": [],
      "source": [
        "# Sebelum melakukan manipulasi dataframe asli, kita copy dataset asli ke variabel lain\n",
        "\n",
        "temp = df.copy()"
      ]
    },
    {
      "cell_type": "code",
      "execution_count": 163,
      "metadata": {
        "id": "Xq8egxtaX5I4"
      },
      "outputs": [],
      "source": [
        "le = LabelEncoder()\n",
        "df['region'] = le.fit_transform(df['region'])"
      ]
    },
    {
      "cell_type": "code",
      "execution_count": 64,
      "metadata": {
        "id": "lXR4lQ0_X5I5"
      },
      "outputs": [],
      "source": [
        "# Drop the original 'loan_status' column\n",
        "# df.drop(columns = ['id','final_d', 'year','loan_condition', 'issue_d', 'home_ownership', 'income_category', \n",
        "# 'term', 'application_type', 'purpose', 'interest_payments', 'loan_condition', 'grade'], inplace = True)"
      ]
    },
    {
      "cell_type": "markdown",
      "metadata": {
        "id": "kWHLKJyQX5I5"
      },
      "source": [
        "## Data Splitting\n",
        "\n",
        "Skenario Data splitting adalah train 60%, validation 20%, test 20%."
      ]
    },
    {
      "cell_type": "markdown",
      "metadata": {
        "id": "hjCd4T0SeT3x"
      },
      "source": [
        "![image.png](data:image/png;base64,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)"
      ]
    },
    {
      "cell_type": "code",
      "execution_count": 164,
      "metadata": {
        "id": "mlqZVjpDX5I9",
        "outputId": "f4b06e4d-f25f-4360-dca3-5e71ac72eb91"
      },
      "outputs": [
        {
          "data": {
            "text/html": [
              "<div>\n",
              "<style scoped>\n",
              "    .dataframe tbody tr th:only-of-type {\n",
              "        vertical-align: middle;\n",
              "    }\n",
              "\n",
              "    .dataframe tbody tr th {\n",
              "        vertical-align: top;\n",
              "    }\n",
              "\n",
              "    .dataframe thead th {\n",
              "        text-align: right;\n",
              "    }\n",
              "</style>\n",
              "<table border=\"1\" class=\"dataframe\">\n",
              "  <thead>\n",
              "    <tr style=\"text-align: right;\">\n",
              "      <th></th>\n",
              "      <th>id</th>\n",
              "      <th>year</th>\n",
              "      <th>issue_d</th>\n",
              "      <th>final_d</th>\n",
              "      <th>emp_length_int</th>\n",
              "      <th>home_ownership</th>\n",
              "      <th>home_ownership_cat</th>\n",
              "      <th>income_category</th>\n",
              "      <th>annual_inc</th>\n",
              "      <th>income_cat</th>\n",
              "      <th>loan_amount</th>\n",
              "      <th>term</th>\n",
              "      <th>term_cat</th>\n",
              "      <th>application_type</th>\n",
              "      <th>application_type_cat</th>\n",
              "      <th>purpose</th>\n",
              "      <th>purpose_cat</th>\n",
              "      <th>interest_payments</th>\n",
              "      <th>interest_payment_cat</th>\n",
              "      <th>loan_condition</th>\n",
              "      <th>loan_condition_cat</th>\n",
              "      <th>interest_rate</th>\n",
              "      <th>grade</th>\n",
              "      <th>grade_cat</th>\n",
              "      <th>dti</th>\n",
              "      <th>total_pymnt</th>\n",
              "      <th>total_rec_prncp</th>\n",
              "      <th>recoveries</th>\n",
              "      <th>installment</th>\n",
              "      <th>region</th>\n",
              "    </tr>\n",
              "  </thead>\n",
              "  <tbody>\n",
              "    <tr>\n",
              "      <th>0</th>\n",
              "      <td>1077501</td>\n",
              "      <td>2011-01-01</td>\n",
              "      <td>2011-01-12</td>\n",
              "      <td>1012015</td>\n",
              "      <td>10.0</td>\n",
              "      <td>RENT</td>\n",
              "      <td>1</td>\n",
              "      <td>Low</td>\n",
              "      <td>24000</td>\n",
              "      <td>1</td>\n",
              "      <td>5000</td>\n",
              "      <td>36 months</td>\n",
              "      <td>1</td>\n",
              "      <td>INDIVIDUAL</td>\n",
              "      <td>1</td>\n",
              "      <td>credit_card</td>\n",
              "      <td>1</td>\n",
              "      <td>Low</td>\n",
              "      <td>1</td>\n",
              "      <td>Good Loan</td>\n",
              "      <td>0</td>\n",
              "      <td>10.65</td>\n",
              "      <td>B</td>\n",
              "      <td>2</td>\n",
              "      <td>27.65</td>\n",
              "      <td>5861.071414</td>\n",
              "      <td>5000.00</td>\n",
              "      <td>0.00</td>\n",
              "      <td>162.87</td>\n",
              "      <td>3</td>\n",
              "    </tr>\n",
              "    <tr>\n",
              "      <th>1</th>\n",
              "      <td>1077430</td>\n",
              "      <td>2011-01-01</td>\n",
              "      <td>2011-01-12</td>\n",
              "      <td>1042013</td>\n",
              "      <td>0.5</td>\n",
              "      <td>RENT</td>\n",
              "      <td>1</td>\n",
              "      <td>Low</td>\n",
              "      <td>30000</td>\n",
              "      <td>1</td>\n",
              "      <td>2500</td>\n",
              "      <td>60 months</td>\n",
              "      <td>2</td>\n",
              "      <td>INDIVIDUAL</td>\n",
              "      <td>1</td>\n",
              "      <td>car</td>\n",
              "      <td>2</td>\n",
              "      <td>High</td>\n",
              "      <td>2</td>\n",
              "      <td>Bad Loan</td>\n",
              "      <td>1</td>\n",
              "      <td>15.27</td>\n",
              "      <td>C</td>\n",
              "      <td>3</td>\n",
              "      <td>1.00</td>\n",
              "      <td>1008.710000</td>\n",
              "      <td>456.46</td>\n",
              "      <td>117.08</td>\n",
              "      <td>59.83</td>\n",
              "      <td>2</td>\n",
              "    </tr>\n",
              "    <tr>\n",
              "      <th>2</th>\n",
              "      <td>1077175</td>\n",
              "      <td>2011-01-01</td>\n",
              "      <td>2011-01-12</td>\n",
              "      <td>1062014</td>\n",
              "      <td>10.0</td>\n",
              "      <td>RENT</td>\n",
              "      <td>1</td>\n",
              "      <td>Low</td>\n",
              "      <td>12252</td>\n",
              "      <td>1</td>\n",
              "      <td>2400</td>\n",
              "      <td>36 months</td>\n",
              "      <td>1</td>\n",
              "      <td>INDIVIDUAL</td>\n",
              "      <td>1</td>\n",
              "      <td>small_business</td>\n",
              "      <td>3</td>\n",
              "      <td>High</td>\n",
              "      <td>2</td>\n",
              "      <td>Good Loan</td>\n",
              "      <td>0</td>\n",
              "      <td>15.96</td>\n",
              "      <td>C</td>\n",
              "      <td>3</td>\n",
              "      <td>8.72</td>\n",
              "      <td>3003.653644</td>\n",
              "      <td>2400.00</td>\n",
              "      <td>0.00</td>\n",
              "      <td>84.33</td>\n",
              "      <td>1</td>\n",
              "    </tr>\n",
              "    <tr>\n",
              "      <th>3</th>\n",
              "      <td>1076863</td>\n",
              "      <td>2011-01-01</td>\n",
              "      <td>2011-01-12</td>\n",
              "      <td>1012015</td>\n",
              "      <td>10.0</td>\n",
              "      <td>RENT</td>\n",
              "      <td>1</td>\n",
              "      <td>Low</td>\n",
              "      <td>49200</td>\n",
              "      <td>1</td>\n",
              "      <td>10000</td>\n",
              "      <td>36 months</td>\n",
              "      <td>1</td>\n",
              "      <td>INDIVIDUAL</td>\n",
              "      <td>1</td>\n",
              "      <td>other</td>\n",
              "      <td>4</td>\n",
              "      <td>High</td>\n",
              "      <td>2</td>\n",
              "      <td>Good Loan</td>\n",
              "      <td>0</td>\n",
              "      <td>13.49</td>\n",
              "      <td>C</td>\n",
              "      <td>3</td>\n",
              "      <td>20.00</td>\n",
              "      <td>12226.302210</td>\n",
              "      <td>10000.00</td>\n",
              "      <td>0.00</td>\n",
              "      <td>339.31</td>\n",
              "      <td>4</td>\n",
              "    </tr>\n",
              "    <tr>\n",
              "      <th>4</th>\n",
              "      <td>1075358</td>\n",
              "      <td>2011-01-01</td>\n",
              "      <td>2011-01-12</td>\n",
              "      <td>1012016</td>\n",
              "      <td>1.0</td>\n",
              "      <td>RENT</td>\n",
              "      <td>1</td>\n",
              "      <td>Low</td>\n",
              "      <td>80000</td>\n",
              "      <td>1</td>\n",
              "      <td>3000</td>\n",
              "      <td>60 months</td>\n",
              "      <td>2</td>\n",
              "      <td>INDIVIDUAL</td>\n",
              "      <td>1</td>\n",
              "      <td>other</td>\n",
              "      <td>4</td>\n",
              "      <td>Low</td>\n",
              "      <td>1</td>\n",
              "      <td>Good Loan</td>\n",
              "      <td>0</td>\n",
              "      <td>12.69</td>\n",
              "      <td>B</td>\n",
              "      <td>2</td>\n",
              "      <td>17.94</td>\n",
              "      <td>3242.170000</td>\n",
              "      <td>2233.10</td>\n",
              "      <td>0.00</td>\n",
              "      <td>67.79</td>\n",
              "      <td>4</td>\n",
              "    </tr>\n",
              "  </tbody>\n",
              "</table>\n",
              "</div>"
            ],
            "text/plain": [
              "        id       year    issue_d  final_d  emp_length_int home_ownership  \\\n",
              "0  1077501 2011-01-01 2011-01-12  1012015            10.0           RENT   \n",
              "1  1077430 2011-01-01 2011-01-12  1042013             0.5           RENT   \n",
              "2  1077175 2011-01-01 2011-01-12  1062014            10.0           RENT   \n",
              "3  1076863 2011-01-01 2011-01-12  1012015            10.0           RENT   \n",
              "4  1075358 2011-01-01 2011-01-12  1012016             1.0           RENT   \n",
              "\n",
              "   home_ownership_cat income_category  annual_inc  income_cat  loan_amount  \\\n",
              "0                   1             Low       24000           1         5000   \n",
              "1                   1             Low       30000           1         2500   \n",
              "2                   1             Low       12252           1         2400   \n",
              "3                   1             Low       49200           1        10000   \n",
              "4                   1             Low       80000           1         3000   \n",
              "\n",
              "         term  term_cat application_type  application_type_cat  \\\n",
              "0   36 months         1       INDIVIDUAL                     1   \n",
              "1   60 months         2       INDIVIDUAL                     1   \n",
              "2   36 months         1       INDIVIDUAL                     1   \n",
              "3   36 months         1       INDIVIDUAL                     1   \n",
              "4   60 months         2       INDIVIDUAL                     1   \n",
              "\n",
              "          purpose  purpose_cat interest_payments  interest_payment_cat  \\\n",
              "0     credit_card            1               Low                     1   \n",
              "1             car            2              High                     2   \n",
              "2  small_business            3              High                     2   \n",
              "3           other            4              High                     2   \n",
              "4           other            4               Low                     1   \n",
              "\n",
              "  loan_condition  loan_condition_cat  interest_rate grade  grade_cat    dti  \\\n",
              "0      Good Loan                   0          10.65     B          2  27.65   \n",
              "1       Bad Loan                   1          15.27     C          3   1.00   \n",
              "2      Good Loan                   0          15.96     C          3   8.72   \n",
              "3      Good Loan                   0          13.49     C          3  20.00   \n",
              "4      Good Loan                   0          12.69     B          2  17.94   \n",
              "\n",
              "    total_pymnt  total_rec_prncp  recoveries  installment  region  \n",
              "0   5861.071414          5000.00        0.00       162.87       3  \n",
              "1   1008.710000           456.46      117.08        59.83       2  \n",
              "2   3003.653644          2400.00        0.00        84.33       1  \n",
              "3  12226.302210         10000.00        0.00       339.31       4  \n",
              "4   3242.170000          2233.10        0.00        67.79       4  "
            ]
          },
          "execution_count": 164,
          "metadata": {},
          "output_type": "execute_result"
        }
      ],
      "source": [
        "df.head()"
      ]
    },
    {
      "cell_type": "code",
      "execution_count": 165,
      "metadata": {},
      "outputs": [
        {
          "data": {
            "text/plain": [
              "(887379, 30)"
            ]
          },
          "execution_count": 165,
          "metadata": {},
          "output_type": "execute_result"
        }
      ],
      "source": [
        "df.shape"
      ]
    },
    {
      "cell_type": "code",
      "execution_count": 171,
      "metadata": {
        "id": "IXfoKUWEX5I_",
        "outputId": "77e04f1c-b508-4495-e3d4-2efa8007cd69"
      },
      "outputs": [
        {
          "data": {
            "text/plain": [
              "year\n",
              "2007-01-01     0.07\n",
              "2008-01-01     0.27\n",
              "2009-01-01     0.60\n",
              "2010-01-01     1.41\n",
              "2011-01-01     2.45\n",
              "2012-01-01     6.01\n",
              "2013-01-01    15.19\n",
              "2014-01-01    26.55\n",
              "2015-01-01    47.45\n",
              "Name: loan_condition, dtype: float64"
            ]
          },
          "execution_count": 171,
          "metadata": {},
          "output_type": "execute_result"
        }
      ],
      "source": [
        "# Sebenarnya, karena ada timestamp pada dataset ini daripada menggunakan train_test_split kita bisa memisah data di tahun terakhir di dataset ini\n",
        "# yaitu tahun 2015 sebagai test set. Namun jumlah data di tahun 2015 sangatlah besar, +- 47% dari keseluruhan observasi. Maka dari itu kita tetap\n",
        "# menggunakan train_test_split\n",
        "\n",
        "(df.groupby('year')['loan_condition'].count()/len(df)).round(4)* 100"
      ]
    },
    {
      "cell_type": "code",
      "execution_count": 179,
      "metadata": {},
      "outputs": [],
      "source": [
        "df1 = df.select_dtypes(include = 'number').copy().reset_index()"
      ]
    },
    {
      "cell_type": "code",
      "execution_count": 180,
      "metadata": {},
      "outputs": [
        {
          "data": {
            "text/html": [
              "<div>\n",
              "<style scoped>\n",
              "    .dataframe tbody tr th:only-of-type {\n",
              "        vertical-align: middle;\n",
              "    }\n",
              "\n",
              "    .dataframe tbody tr th {\n",
              "        vertical-align: top;\n",
              "    }\n",
              "\n",
              "    .dataframe thead th {\n",
              "        text-align: right;\n",
              "    }\n",
              "</style>\n",
              "<table border=\"1\" class=\"dataframe\">\n",
              "  <thead>\n",
              "    <tr style=\"text-align: right;\">\n",
              "      <th></th>\n",
              "      <th>index</th>\n",
              "      <th>id</th>\n",
              "      <th>final_d</th>\n",
              "      <th>emp_length_int</th>\n",
              "      <th>home_ownership_cat</th>\n",
              "      <th>annual_inc</th>\n",
              "      <th>income_cat</th>\n",
              "      <th>loan_amount</th>\n",
              "      <th>term_cat</th>\n",
              "      <th>application_type_cat</th>\n",
              "      <th>purpose_cat</th>\n",
              "      <th>interest_payment_cat</th>\n",
              "      <th>loan_condition_cat</th>\n",
              "      <th>interest_rate</th>\n",
              "      <th>grade_cat</th>\n",
              "      <th>dti</th>\n",
              "      <th>total_pymnt</th>\n",
              "      <th>total_rec_prncp</th>\n",
              "      <th>recoveries</th>\n",
              "      <th>installment</th>\n",
              "      <th>region</th>\n",
              "    </tr>\n",
              "  </thead>\n",
              "  <tbody>\n",
              "    <tr>\n",
              "      <th>0</th>\n",
              "      <td>0</td>\n",
              "      <td>1077501</td>\n",
              "      <td>1012015</td>\n",
              "      <td>10.0</td>\n",
              "      <td>1</td>\n",
              "      <td>24000</td>\n",
              "      <td>1</td>\n",
              "      <td>5000</td>\n",
              "      <td>1</td>\n",
              "      <td>1</td>\n",
              "      <td>1</td>\n",
              "      <td>1</td>\n",
              "      <td>0</td>\n",
              "      <td>10.65</td>\n",
              "      <td>2</td>\n",
              "      <td>27.65</td>\n",
              "      <td>5861.071414</td>\n",
              "      <td>5000.00</td>\n",
              "      <td>0.00</td>\n",
              "      <td>162.87</td>\n",
              "      <td>3</td>\n",
              "    </tr>\n",
              "    <tr>\n",
              "      <th>1</th>\n",
              "      <td>1</td>\n",
              "      <td>1077430</td>\n",
              "      <td>1042013</td>\n",
              "      <td>0.5</td>\n",
              "      <td>1</td>\n",
              "      <td>30000</td>\n",
              "      <td>1</td>\n",
              "      <td>2500</td>\n",
              "      <td>2</td>\n",
              "      <td>1</td>\n",
              "      <td>2</td>\n",
              "      <td>2</td>\n",
              "      <td>1</td>\n",
              "      <td>15.27</td>\n",
              "      <td>3</td>\n",
              "      <td>1.00</td>\n",
              "      <td>1008.710000</td>\n",
              "      <td>456.46</td>\n",
              "      <td>117.08</td>\n",
              "      <td>59.83</td>\n",
              "      <td>2</td>\n",
              "    </tr>\n",
              "    <tr>\n",
              "      <th>2</th>\n",
              "      <td>2</td>\n",
              "      <td>1077175</td>\n",
              "      <td>1062014</td>\n",
              "      <td>10.0</td>\n",
              "      <td>1</td>\n",
              "      <td>12252</td>\n",
              "      <td>1</td>\n",
              "      <td>2400</td>\n",
              "      <td>1</td>\n",
              "      <td>1</td>\n",
              "      <td>3</td>\n",
              "      <td>2</td>\n",
              "      <td>0</td>\n",
              "      <td>15.96</td>\n",
              "      <td>3</td>\n",
              "      <td>8.72</td>\n",
              "      <td>3003.653644</td>\n",
              "      <td>2400.00</td>\n",
              "      <td>0.00</td>\n",
              "      <td>84.33</td>\n",
              "      <td>1</td>\n",
              "    </tr>\n",
              "    <tr>\n",
              "      <th>3</th>\n",
              "      <td>3</td>\n",
              "      <td>1076863</td>\n",
              "      <td>1012015</td>\n",
              "      <td>10.0</td>\n",
              "      <td>1</td>\n",
              "      <td>49200</td>\n",
              "      <td>1</td>\n",
              "      <td>10000</td>\n",
              "      <td>1</td>\n",
              "      <td>1</td>\n",
              "      <td>4</td>\n",
              "      <td>2</td>\n",
              "      <td>0</td>\n",
              "      <td>13.49</td>\n",
              "      <td>3</td>\n",
              "      <td>20.00</td>\n",
              "      <td>12226.302210</td>\n",
              "      <td>10000.00</td>\n",
              "      <td>0.00</td>\n",
              "      <td>339.31</td>\n",
              "      <td>4</td>\n",
              "    </tr>\n",
              "    <tr>\n",
              "      <th>4</th>\n",
              "      <td>4</td>\n",
              "      <td>1075358</td>\n",
              "      <td>1012016</td>\n",
              "      <td>1.0</td>\n",
              "      <td>1</td>\n",
              "      <td>80000</td>\n",
              "      <td>1</td>\n",
              "      <td>3000</td>\n",
              "      <td>2</td>\n",
              "      <td>1</td>\n",
              "      <td>4</td>\n",
              "      <td>1</td>\n",
              "      <td>0</td>\n",
              "      <td>12.69</td>\n",
              "      <td>2</td>\n",
              "      <td>17.94</td>\n",
              "      <td>3242.170000</td>\n",
              "      <td>2233.10</td>\n",
              "      <td>0.00</td>\n",
              "      <td>67.79</td>\n",
              "      <td>4</td>\n",
              "    </tr>\n",
              "    <tr>\n",
              "      <th>...</th>\n",
              "      <td>...</td>\n",
              "      <td>...</td>\n",
              "      <td>...</td>\n",
              "      <td>...</td>\n",
              "      <td>...</td>\n",
              "      <td>...</td>\n",
              "      <td>...</td>\n",
              "      <td>...</td>\n",
              "      <td>...</td>\n",
              "      <td>...</td>\n",
              "      <td>...</td>\n",
              "      <td>...</td>\n",
              "      <td>...</td>\n",
              "      <td>...</td>\n",
              "      <td>...</td>\n",
              "      <td>...</td>\n",
              "      <td>...</td>\n",
              "      <td>...</td>\n",
              "      <td>...</td>\n",
              "      <td>...</td>\n",
              "      <td>...</td>\n",
              "    </tr>\n",
              "    <tr>\n",
              "      <th>887374</th>\n",
              "      <td>887374</td>\n",
              "      <td>36371250</td>\n",
              "      <td>1012016</td>\n",
              "      <td>8.0</td>\n",
              "      <td>1</td>\n",
              "      <td>31000</td>\n",
              "      <td>1</td>\n",
              "      <td>10000</td>\n",
              "      <td>1</td>\n",
              "      <td>1</td>\n",
              "      <td>6</td>\n",
              "      <td>1</td>\n",
              "      <td>0</td>\n",
              "      <td>11.99</td>\n",
              "      <td>2</td>\n",
              "      <td>28.69</td>\n",
              "      <td>3971.880000</td>\n",
              "      <td>2944.53</td>\n",
              "      <td>0.00</td>\n",
              "      <td>332.10</td>\n",
              "      <td>4</td>\n",
              "    </tr>\n",
              "    <tr>\n",
              "      <th>887375</th>\n",
              "      <td>887375</td>\n",
              "      <td>36441262</td>\n",
              "      <td>1012016</td>\n",
              "      <td>10.0</td>\n",
              "      <td>3</td>\n",
              "      <td>79000</td>\n",
              "      <td>1</td>\n",
              "      <td>24000</td>\n",
              "      <td>1</td>\n",
              "      <td>1</td>\n",
              "      <td>7</td>\n",
              "      <td>1</td>\n",
              "      <td>0</td>\n",
              "      <td>11.99</td>\n",
              "      <td>2</td>\n",
              "      <td>3.90</td>\n",
              "      <td>9532.390000</td>\n",
              "      <td>7066.74</td>\n",
              "      <td>0.00</td>\n",
              "      <td>797.03</td>\n",
              "      <td>0</td>\n",
              "    </tr>\n",
              "    <tr>\n",
              "      <th>887376</th>\n",
              "      <td>887376</td>\n",
              "      <td>36271333</td>\n",
              "      <td>1012016</td>\n",
              "      <td>5.0</td>\n",
              "      <td>1</td>\n",
              "      <td>35000</td>\n",
              "      <td>1</td>\n",
              "      <td>13000</td>\n",
              "      <td>2</td>\n",
              "      <td>1</td>\n",
              "      <td>6</td>\n",
              "      <td>2</td>\n",
              "      <td>0</td>\n",
              "      <td>15.99</td>\n",
              "      <td>4</td>\n",
              "      <td>30.90</td>\n",
              "      <td>3769.740000</td>\n",
              "      <td>1844.50</td>\n",
              "      <td>0.00</td>\n",
              "      <td>316.07</td>\n",
              "      <td>2</td>\n",
              "    </tr>\n",
              "    <tr>\n",
              "      <th>887377</th>\n",
              "      <td>887377</td>\n",
              "      <td>36490806</td>\n",
              "      <td>1012016</td>\n",
              "      <td>1.0</td>\n",
              "      <td>1</td>\n",
              "      <td>64400</td>\n",
              "      <td>1</td>\n",
              "      <td>12000</td>\n",
              "      <td>2</td>\n",
              "      <td>1</td>\n",
              "      <td>6</td>\n",
              "      <td>2</td>\n",
              "      <td>0</td>\n",
              "      <td>19.99</td>\n",
              "      <td>5</td>\n",
              "      <td>27.19</td>\n",
              "      <td>3787.670000</td>\n",
              "      <td>1552.69</td>\n",
              "      <td>0.00</td>\n",
              "      <td>317.86</td>\n",
              "      <td>0</td>\n",
              "    </tr>\n",
              "    <tr>\n",
              "      <th>887378</th>\n",
              "      <td>887378</td>\n",
              "      <td>36271262</td>\n",
              "      <td>1012016</td>\n",
              "      <td>10.0</td>\n",
              "      <td>1</td>\n",
              "      <td>100000</td>\n",
              "      <td>1</td>\n",
              "      <td>20000</td>\n",
              "      <td>1</td>\n",
              "      <td>1</td>\n",
              "      <td>1</td>\n",
              "      <td>1</td>\n",
              "      <td>0</td>\n",
              "      <td>11.99</td>\n",
              "      <td>2</td>\n",
              "      <td>10.83</td>\n",
              "      <td>7943.760000</td>\n",
              "      <td>5889.06</td>\n",
              "      <td>0.00</td>\n",
              "      <td>664.20</td>\n",
              "      <td>2</td>\n",
              "    </tr>\n",
              "  </tbody>\n",
              "</table>\n",
              "<p>887379 rows × 21 columns</p>\n",
              "</div>"
            ],
            "text/plain": [
              "         index        id  final_d  emp_length_int  home_ownership_cat  \\\n",
              "0            0   1077501  1012015            10.0                   1   \n",
              "1            1   1077430  1042013             0.5                   1   \n",
              "2            2   1077175  1062014            10.0                   1   \n",
              "3            3   1076863  1012015            10.0                   1   \n",
              "4            4   1075358  1012016             1.0                   1   \n",
              "...        ...       ...      ...             ...                 ...   \n",
              "887374  887374  36371250  1012016             8.0                   1   \n",
              "887375  887375  36441262  1012016            10.0                   3   \n",
              "887376  887376  36271333  1012016             5.0                   1   \n",
              "887377  887377  36490806  1012016             1.0                   1   \n",
              "887378  887378  36271262  1012016            10.0                   1   \n",
              "\n",
              "        annual_inc  income_cat  loan_amount  term_cat  application_type_cat  \\\n",
              "0            24000           1         5000         1                     1   \n",
              "1            30000           1         2500         2                     1   \n",
              "2            12252           1         2400         1                     1   \n",
              "3            49200           1        10000         1                     1   \n",
              "4            80000           1         3000         2                     1   \n",
              "...            ...         ...          ...       ...                   ...   \n",
              "887374       31000           1        10000         1                     1   \n",
              "887375       79000           1        24000         1                     1   \n",
              "887376       35000           1        13000         2                     1   \n",
              "887377       64400           1        12000         2                     1   \n",
              "887378      100000           1        20000         1                     1   \n",
              "\n",
              "        purpose_cat  interest_payment_cat  loan_condition_cat  interest_rate  \\\n",
              "0                 1                     1                   0          10.65   \n",
              "1                 2                     2                   1          15.27   \n",
              "2                 3                     2                   0          15.96   \n",
              "3                 4                     2                   0          13.49   \n",
              "4                 4                     1                   0          12.69   \n",
              "...             ...                   ...                 ...            ...   \n",
              "887374            6                     1                   0          11.99   \n",
              "887375            7                     1                   0          11.99   \n",
              "887376            6                     2                   0          15.99   \n",
              "887377            6                     2                   0          19.99   \n",
              "887378            1                     1                   0          11.99   \n",
              "\n",
              "        grade_cat    dti   total_pymnt  total_rec_prncp  recoveries  \\\n",
              "0               2  27.65   5861.071414          5000.00        0.00   \n",
              "1               3   1.00   1008.710000           456.46      117.08   \n",
              "2               3   8.72   3003.653644          2400.00        0.00   \n",
              "3               3  20.00  12226.302210         10000.00        0.00   \n",
              "4               2  17.94   3242.170000          2233.10        0.00   \n",
              "...           ...    ...           ...              ...         ...   \n",
              "887374          2  28.69   3971.880000          2944.53        0.00   \n",
              "887375          2   3.90   9532.390000          7066.74        0.00   \n",
              "887376          4  30.90   3769.740000          1844.50        0.00   \n",
              "887377          5  27.19   3787.670000          1552.69        0.00   \n",
              "887378          2  10.83   7943.760000          5889.06        0.00   \n",
              "\n",
              "        installment  region  \n",
              "0            162.87       3  \n",
              "1             59.83       2  \n",
              "2             84.33       1  \n",
              "3            339.31       4  \n",
              "4             67.79       4  \n",
              "...             ...     ...  \n",
              "887374       332.10       4  \n",
              "887375       797.03       0  \n",
              "887376       316.07       2  \n",
              "887377       317.86       0  \n",
              "887378       664.20       2  \n",
              "\n",
              "[887379 rows x 21 columns]"
            ]
          },
          "execution_count": 180,
          "metadata": {},
          "output_type": "execute_result"
        }
      ],
      "source": [
        "df1"
      ]
    },
    {
      "cell_type": "code",
      "execution_count": 195,
      "metadata": {
        "id": "5VwLtOlFX5I_"
      },
      "outputs": [],
      "source": [
        "# inisialiasi X dan y\n",
        "X = df1.drop(columns=['loan_condition_cat'], axis = 1)\n",
        "y = df1['loan_condition_cat']"
      ]
    },
    {
      "cell_type": "code",
      "execution_count": 196,
      "metadata": {
        "id": "aTPxqMJdX5I_"
      },
      "outputs": [],
      "source": [
        "X_train_val, X_test, y_train_val, y_test = train_test_split(\n",
        "    X, \n",
        "    y, \n",
        "    stratify = y,\n",
        "    test_size = 0.2, \n",
        "    random_state = 2021)\n",
        "\n",
        "X_train, X_val, y_train, y_val = train_test_split(\n",
        "    X_train_val,\n",
        "    y_train_val, \n",
        "    stratify = y_train_val,\n",
        "    test_size = 0.25, \n",
        "    random_state = 2021)"
      ]
    },
    {
      "cell_type": "code",
      "execution_count": 197,
      "metadata": {
        "id": "5lMZNcnzX5JA"
      },
      "outputs": [],
      "source": [
        "# untuk memastikan konsistensi data dan menghindari SetttingWithCopyWarning di Pandas\n",
        "X_train, X_test, X_val = X_train.copy(), X_test.copy(), X_val.copy()"
      ]
    },
    {
      "cell_type": "markdown",
      "metadata": {
        "id": "wbOUSX-pX5JA"
      },
      "source": [
        "## Feature Selection\n",
        "\n",
        "Selanjutnya, kita akan melakukan feature selection untuk mengidentifikasi fitur yang paling cocok untuk masalah binary classisfication dan  kami menggunakan uji Chi-square untuk categorical feature dan ANOVA F-statistik untuk numerical feature."
      ]
    },
    {
      "cell_type": "code",
      "execution_count": 184,
      "metadata": {
        "id": "0cp9FtJlX5JA"
      },
      "outputs": [],
      "source": [
        "X_train_num = X_train.select_dtypes(include = 'number').copy().reset_index()\n",
        "# X_train_num.drop(['index' , 'year', 'isued_d'], axis = 1, inplace=True)"
      ]
    },
    {
      "cell_type": "code",
      "execution_count": 185,
      "metadata": {
        "id": "18cRGeMWX5JA",
        "outputId": "eb4045da-c4e7-4cf1-f97a-6d55a6d8a64e"
      },
      "outputs": [
        {
          "data": {
            "text/html": [
              "<div>\n",
              "<style scoped>\n",
              "    .dataframe tbody tr th:only-of-type {\n",
              "        vertical-align: middle;\n",
              "    }\n",
              "\n",
              "    .dataframe tbody tr th {\n",
              "        vertical-align: top;\n",
              "    }\n",
              "\n",
              "    .dataframe thead th {\n",
              "        text-align: right;\n",
              "    }\n",
              "</style>\n",
              "<table border=\"1\" class=\"dataframe\">\n",
              "  <thead>\n",
              "    <tr style=\"text-align: right;\">\n",
              "      <th></th>\n",
              "      <th>level_0</th>\n",
              "      <th>index</th>\n",
              "      <th>id</th>\n",
              "      <th>final_d</th>\n",
              "      <th>emp_length_int</th>\n",
              "      <th>home_ownership_cat</th>\n",
              "      <th>annual_inc</th>\n",
              "      <th>income_cat</th>\n",
              "      <th>loan_amount</th>\n",
              "      <th>term_cat</th>\n",
              "      <th>application_type_cat</th>\n",
              "      <th>purpose_cat</th>\n",
              "      <th>interest_payment_cat</th>\n",
              "      <th>interest_rate</th>\n",
              "      <th>grade_cat</th>\n",
              "      <th>dti</th>\n",
              "      <th>total_pymnt</th>\n",
              "      <th>total_rec_prncp</th>\n",
              "      <th>recoveries</th>\n",
              "      <th>installment</th>\n",
              "      <th>region</th>\n",
              "    </tr>\n",
              "  </thead>\n",
              "  <tbody>\n",
              "    <tr>\n",
              "      <th>0</th>\n",
              "      <td>471459</td>\n",
              "      <td>471459</td>\n",
              "      <td>68353356</td>\n",
              "      <td>1012016</td>\n",
              "      <td>3.0</td>\n",
              "      <td>3</td>\n",
              "      <td>240000</td>\n",
              "      <td>3</td>\n",
              "      <td>20000</td>\n",
              "      <td>2</td>\n",
              "      <td>1</td>\n",
              "      <td>6</td>\n",
              "      <td>2</td>\n",
              "      <td>19.89</td>\n",
              "      <td>5</td>\n",
              "      <td>11.83</td>\n",
              "      <td>0.0000</td>\n",
              "      <td>0.00</td>\n",
              "      <td>0.0</td>\n",
              "      <td>528.66</td>\n",
              "      <td>4</td>\n",
              "    </tr>\n",
              "    <tr>\n",
              "      <th>1</th>\n",
              "      <td>272439</td>\n",
              "      <td>272439</td>\n",
              "      <td>32168709</td>\n",
              "      <td>1122015</td>\n",
              "      <td>8.0</td>\n",
              "      <td>3</td>\n",
              "      <td>70000</td>\n",
              "      <td>1</td>\n",
              "      <td>7000</td>\n",
              "      <td>1</td>\n",
              "      <td>1</td>\n",
              "      <td>8</td>\n",
              "      <td>1</td>\n",
              "      <td>12.49</td>\n",
              "      <td>2</td>\n",
              "      <td>18.12</td>\n",
              "      <td>3273.2400</td>\n",
              "      <td>2417.40</td>\n",
              "      <td>0.0</td>\n",
              "      <td>234.15</td>\n",
              "      <td>2</td>\n",
              "    </tr>\n",
              "    <tr>\n",
              "      <th>2</th>\n",
              "      <td>158077</td>\n",
              "      <td>158077</td>\n",
              "      <td>3631353</td>\n",
              "      <td>1062014</td>\n",
              "      <td>5.0</td>\n",
              "      <td>2</td>\n",
              "      <td>42000</td>\n",
              "      <td>1</td>\n",
              "      <td>10000</td>\n",
              "      <td>1</td>\n",
              "      <td>1</td>\n",
              "      <td>1</td>\n",
              "      <td>1</td>\n",
              "      <td>11.14</td>\n",
              "      <td>2</td>\n",
              "      <td>17.31</td>\n",
              "      <td>11153.6448</td>\n",
              "      <td>10000.00</td>\n",
              "      <td>0.0</td>\n",
              "      <td>328.06</td>\n",
              "      <td>4</td>\n",
              "    </tr>\n",
              "    <tr>\n",
              "      <th>3</th>\n",
              "      <td>266410</td>\n",
              "      <td>266410</td>\n",
              "      <td>32199405</td>\n",
              "      <td>1012016</td>\n",
              "      <td>4.0</td>\n",
              "      <td>1</td>\n",
              "      <td>41000</td>\n",
              "      <td>1</td>\n",
              "      <td>6000</td>\n",
              "      <td>1</td>\n",
              "      <td>1</td>\n",
              "      <td>6</td>\n",
              "      <td>1</td>\n",
              "      <td>12.49</td>\n",
              "      <td>2</td>\n",
              "      <td>15.01</td>\n",
              "      <td>2810.5300</td>\n",
              "      <td>2072.05</td>\n",
              "      <td>0.0</td>\n",
              "      <td>200.70</td>\n",
              "      <td>4</td>\n",
              "    </tr>\n",
              "    <tr>\n",
              "      <th>4</th>\n",
              "      <td>499118</td>\n",
              "      <td>499118</td>\n",
              "      <td>66600978</td>\n",
              "      <td>1012016</td>\n",
              "      <td>5.0</td>\n",
              "      <td>2</td>\n",
              "      <td>35000</td>\n",
              "      <td>1</td>\n",
              "      <td>15000</td>\n",
              "      <td>2</td>\n",
              "      <td>1</td>\n",
              "      <td>6</td>\n",
              "      <td>2</td>\n",
              "      <td>13.67</td>\n",
              "      <td>3</td>\n",
              "      <td>13.12</td>\n",
              "      <td>380.6400</td>\n",
              "      <td>175.59</td>\n",
              "      <td>0.0</td>\n",
              "      <td>346.47</td>\n",
              "      <td>0</td>\n",
              "    </tr>\n",
              "  </tbody>\n",
              "</table>\n",
              "</div>"
            ],
            "text/plain": [
              "   level_0   index        id  final_d  emp_length_int  home_ownership_cat  \\\n",
              "0   471459  471459  68353356  1012016             3.0                   3   \n",
              "1   272439  272439  32168709  1122015             8.0                   3   \n",
              "2   158077  158077   3631353  1062014             5.0                   2   \n",
              "3   266410  266410  32199405  1012016             4.0                   1   \n",
              "4   499118  499118  66600978  1012016             5.0                   2   \n",
              "\n",
              "   annual_inc  income_cat  loan_amount  term_cat  application_type_cat  \\\n",
              "0      240000           3        20000         2                     1   \n",
              "1       70000           1         7000         1                     1   \n",
              "2       42000           1        10000         1                     1   \n",
              "3       41000           1         6000         1                     1   \n",
              "4       35000           1        15000         2                     1   \n",
              "\n",
              "   purpose_cat  interest_payment_cat  interest_rate  grade_cat    dti  \\\n",
              "0            6                     2          19.89          5  11.83   \n",
              "1            8                     1          12.49          2  18.12   \n",
              "2            1                     1          11.14          2  17.31   \n",
              "3            6                     1          12.49          2  15.01   \n",
              "4            6                     2          13.67          3  13.12   \n",
              "\n",
              "   total_pymnt  total_rec_prncp  recoveries  installment  region  \n",
              "0       0.0000             0.00         0.0       528.66       4  \n",
              "1    3273.2400          2417.40         0.0       234.15       2  \n",
              "2   11153.6448         10000.00         0.0       328.06       4  \n",
              "3    2810.5300          2072.05         0.0       200.70       4  \n",
              "4     380.6400           175.59         0.0       346.47       0  "
            ]
          },
          "execution_count": 185,
          "metadata": {},
          "output_type": "execute_result"
        }
      ],
      "source": [
        "X_train_num.head()"
      ]
    },
    {
      "cell_type": "code",
      "execution_count": 187,
      "metadata": {
        "id": "I4iYC_A7X5JA",
        "outputId": "fb188da1-8045-4f75-ee89-2ea006e00f1f"
      },
      "outputs": [
        {
          "data": {
            "text/plain": [
              "(532427, 21)"
            ]
          },
          "execution_count": 187,
          "metadata": {},
          "output_type": "execute_result"
        }
      ],
      "source": [
        "X_train_num.shape"
      ]
    },
    {
      "cell_type": "code",
      "execution_count": 188,
      "metadata": {
        "id": "zvWZ83xcX5JB"
      },
      "outputs": [],
      "source": [
        "# f_class tidak bisa menerima missing value dan infinity value\n",
        "X_train_num.fillna(X_train_num.mean(), inplace = True)"
      ]
    },
    {
      "cell_type": "code",
      "execution_count": 189,
      "metadata": {
        "id": "7vIijDpVX5JB",
        "outputId": "f30b1d1c-e303-4365-ce11-6383ff2735e9"
      },
      "outputs": [
        {
          "data": {
            "text/plain": [
              "True"
            ]
          },
          "execution_count": 189,
          "metadata": {},
          "output_type": "execute_result"
        }
      ],
      "source": [
        "np.all(np.isfinite(X_train_num))"
      ]
    },
    {
      "cell_type": "code",
      "execution_count": 190,
      "metadata": {
        "id": "FntDv0OVX5JB"
      },
      "outputs": [],
      "source": [
        "# Hitung F_statistic\n",
        "F_statistic, p_values = f_classif(X_train_num, y_train)"
      ]
    },
    {
      "cell_type": "code",
      "execution_count": 191,
      "metadata": {
        "id": "O47DKD-_X5JB"
      },
      "outputs": [],
      "source": [
        "# convert to a DF\n",
        "ANOVA_F_table = pd.DataFrame(data = {'Numerical_Feature': X_train_num.columns.values,\n",
        "\t\t\t\t\t'F-Score': F_statistic, 'p values': p_values.round(decimals=10)})\n",
        "ANOVA_F_table.sort_values(by = ['F-Score'], ascending = False, ignore_index = True, inplace = True)"
      ]
    },
    {
      "cell_type": "code",
      "execution_count": 192,
      "metadata": {
        "id": "iRNNjXvRX5JB",
        "outputId": "d0686b53-9568-44f1-9823-4ab9dca9caff"
      },
      "outputs": [
        {
          "data": {
            "text/html": [
              "<div>\n",
              "<style scoped>\n",
              "    .dataframe tbody tr th:only-of-type {\n",
              "        vertical-align: middle;\n",
              "    }\n",
              "\n",
              "    .dataframe tbody tr th {\n",
              "        vertical-align: top;\n",
              "    }\n",
              "\n",
              "    .dataframe thead th {\n",
              "        text-align: right;\n",
              "    }\n",
              "</style>\n",
              "<table border=\"1\" class=\"dataframe\">\n",
              "  <thead>\n",
              "    <tr style=\"text-align: right;\">\n",
              "      <th></th>\n",
              "      <th>Numerical_Feature</th>\n",
              "      <th>F-Score</th>\n",
              "      <th>p values</th>\n",
              "    </tr>\n",
              "  </thead>\n",
              "  <tbody>\n",
              "    <tr>\n",
              "      <th>0</th>\n",
              "      <td>recoveries</td>\n",
              "      <td>95221.302665</td>\n",
              "      <td>0.000000e+00</td>\n",
              "    </tr>\n",
              "    <tr>\n",
              "      <th>1</th>\n",
              "      <td>id</td>\n",
              "      <td>20017.232935</td>\n",
              "      <td>0.000000e+00</td>\n",
              "    </tr>\n",
              "    <tr>\n",
              "      <th>2</th>\n",
              "      <td>final_d</td>\n",
              "      <td>17582.401188</td>\n",
              "      <td>0.000000e+00</td>\n",
              "    </tr>\n",
              "    <tr>\n",
              "      <th>3</th>\n",
              "      <td>interest_rate</td>\n",
              "      <td>16696.963632</td>\n",
              "      <td>0.000000e+00</td>\n",
              "    </tr>\n",
              "    <tr>\n",
              "      <th>4</th>\n",
              "      <td>grade_cat</td>\n",
              "      <td>12156.046113</td>\n",
              "      <td>0.000000e+00</td>\n",
              "    </tr>\n",
              "    <tr>\n",
              "      <th>5</th>\n",
              "      <td>level_0</td>\n",
              "      <td>11474.032623</td>\n",
              "      <td>0.000000e+00</td>\n",
              "    </tr>\n",
              "    <tr>\n",
              "      <th>6</th>\n",
              "      <td>index</td>\n",
              "      <td>11474.032623</td>\n",
              "      <td>0.000000e+00</td>\n",
              "    </tr>\n",
              "    <tr>\n",
              "      <th>7</th>\n",
              "      <td>interest_payment_cat</td>\n",
              "      <td>10426.170006</td>\n",
              "      <td>0.000000e+00</td>\n",
              "    </tr>\n",
              "    <tr>\n",
              "      <th>8</th>\n",
              "      <td>total_rec_prncp</td>\n",
              "      <td>4887.710210</td>\n",
              "      <td>0.000000e+00</td>\n",
              "    </tr>\n",
              "    <tr>\n",
              "      <th>9</th>\n",
              "      <td>total_pymnt</td>\n",
              "      <td>947.372999</td>\n",
              "      <td>0.000000e+00</td>\n",
              "    </tr>\n",
              "    <tr>\n",
              "      <th>10</th>\n",
              "      <td>term_cat</td>\n",
              "      <td>832.532023</td>\n",
              "      <td>0.000000e+00</td>\n",
              "    </tr>\n",
              "    <tr>\n",
              "      <th>11</th>\n",
              "      <td>home_ownership_cat</td>\n",
              "      <td>716.120266</td>\n",
              "      <td>0.000000e+00</td>\n",
              "    </tr>\n",
              "    <tr>\n",
              "      <th>12</th>\n",
              "      <td>income_cat</td>\n",
              "      <td>656.287008</td>\n",
              "      <td>0.000000e+00</td>\n",
              "    </tr>\n",
              "    <tr>\n",
              "      <th>13</th>\n",
              "      <td>annual_inc</td>\n",
              "      <td>538.642869</td>\n",
              "      <td>0.000000e+00</td>\n",
              "    </tr>\n",
              "    <tr>\n",
              "      <th>14</th>\n",
              "      <td>purpose_cat</td>\n",
              "      <td>479.783123</td>\n",
              "      <td>0.000000e+00</td>\n",
              "    </tr>\n",
              "    <tr>\n",
              "      <th>15</th>\n",
              "      <td>emp_length_int</td>\n",
              "      <td>132.520637</td>\n",
              "      <td>0.000000e+00</td>\n",
              "    </tr>\n",
              "    <tr>\n",
              "      <th>16</th>\n",
              "      <td>installment</td>\n",
              "      <td>127.447058</td>\n",
              "      <td>0.000000e+00</td>\n",
              "    </tr>\n",
              "    <tr>\n",
              "      <th>17</th>\n",
              "      <td>dti</td>\n",
              "      <td>32.216221</td>\n",
              "      <td>1.380000e-08</td>\n",
              "    </tr>\n",
              "    <tr>\n",
              "      <th>18</th>\n",
              "      <td>application_type_cat</td>\n",
              "      <td>18.858077</td>\n",
              "      <td>1.408400e-05</td>\n",
              "    </tr>\n",
              "    <tr>\n",
              "      <th>19</th>\n",
              "      <td>loan_amount</td>\n",
              "      <td>11.797351</td>\n",
              "      <td>5.931959e-04</td>\n",
              "    </tr>\n",
              "    <tr>\n",
              "      <th>20</th>\n",
              "      <td>region</td>\n",
              "      <td>0.115494</td>\n",
              "      <td>7.339735e-01</td>\n",
              "    </tr>\n",
              "  </tbody>\n",
              "</table>\n",
              "</div>"
            ],
            "text/plain": [
              "       Numerical_Feature       F-Score      p values\n",
              "0             recoveries  95221.302665  0.000000e+00\n",
              "1                     id  20017.232935  0.000000e+00\n",
              "2                final_d  17582.401188  0.000000e+00\n",
              "3          interest_rate  16696.963632  0.000000e+00\n",
              "4              grade_cat  12156.046113  0.000000e+00\n",
              "5                level_0  11474.032623  0.000000e+00\n",
              "6                  index  11474.032623  0.000000e+00\n",
              "7   interest_payment_cat  10426.170006  0.000000e+00\n",
              "8        total_rec_prncp   4887.710210  0.000000e+00\n",
              "9            total_pymnt    947.372999  0.000000e+00\n",
              "10              term_cat    832.532023  0.000000e+00\n",
              "11    home_ownership_cat    716.120266  0.000000e+00\n",
              "12            income_cat    656.287008  0.000000e+00\n",
              "13            annual_inc    538.642869  0.000000e+00\n",
              "14           purpose_cat    479.783123  0.000000e+00\n",
              "15        emp_length_int    132.520637  0.000000e+00\n",
              "16           installment    127.447058  0.000000e+00\n",
              "17                   dti     32.216221  1.380000e-08\n",
              "18  application_type_cat     18.858077  1.408400e-05\n",
              "19           loan_amount     11.797351  5.931959e-04\n",
              "20                region      0.115494  7.339735e-01"
            ]
          },
          "execution_count": 192,
          "metadata": {},
          "output_type": "execute_result"
        }
      ],
      "source": [
        "ANOVA_F_table"
      ]
    },
    {
      "cell_type": "markdown",
      "metadata": {
        "id": "VIqpozffX5JC"
      },
      "source": [
        "Statistik F ANOVA untuk 15 fitur numerik menunjukkan rentang nilai F yang luas. Kita akan coba simpan 15 fitur ini untuk tetap digunakan dalam permodelan. Jika model yang dihasilkan kurang baik kita akan coba menggunakan fitur yang mempunyai ```p-value``` < 0.05 "
      ]
    },
    {
      "cell_type": "markdown",
      "metadata": {
        "id": "yLXIhIJ-X5JC"
      },
      "source": [
        "## Cek Multicollinearity"
      ]
    },
    {
      "cell_type": "code",
      "execution_count": 193,
      "metadata": {
        "id": "qlRm2BVkX5JC",
        "outputId": "9cb4c73c-f157-4cb3-868f-49a6beca83ff"
      },
      "outputs": [
        {
          "data": {
            "text/plain": [
              "<AxesSubplot:>"
            ]
          },
          "execution_count": 193,
          "metadata": {},
          "output_type": "execute_result"
        },
        {
          "data": {
            "image/png": "[encoded data removed]",
            "text/plain": [
              "<Figure size 720x720 with 2 Axes>"
            ]
          },
          "metadata": {
            "needs_background": "light"
          },
          "output_type": "display_data"
        }
      ],
      "source": [
        "corrmat = X_train_num[ANOVA_F_table.iloc[:,0].to_list()].corr()\n",
        "plt.figure(figsize=(10,10))\n",
        "sns.heatmap(corrmat)"
      ]
    },
    {
      "cell_type": "markdown",
      "metadata": {
        "id": "vUnLy9etX5JC"
      },
      "source": [
        "## Baseline Model Performance\n",
        "\n",
        "Sebagai baseline, kita memakai 3 model berbasis ensemble learning:\n",
        "1. Random Forest Classifier\n",
        "2. Decision Tree Classifier\n",
        "3. AdaBoost Classifier"
      ]
    },
    {
      "cell_type": "code",
      "execution_count": 198,
      "metadata": {
        "id": "92OQODNeX5JC"
      },
      "outputs": [],
      "source": [
        "rf = RandomForestClassifier(n_estimators=100)\n",
        "dt = DecisionTreeClassifier(max_depth = 5)\n",
        "ada = AdaBoostClassifier(base_estimator=DecisionTreeClassifier(), n_estimators=100)"
      ]
    },
    {
      "cell_type": "code",
      "execution_count": 200,
      "metadata": {},
      "outputs": [
        {
          "data": {
            "text/html": [
              "<div>\n",
              "<style scoped>\n",
              "    .dataframe tbody tr th:only-of-type {\n",
              "        vertical-align: middle;\n",
              "    }\n",
              "\n",
              "    .dataframe tbody tr th {\n",
              "        vertical-align: top;\n",
              "    }\n",
              "\n",
              "    .dataframe thead th {\n",
              "        text-align: right;\n",
              "    }\n",
              "</style>\n",
              "<table border=\"1\" class=\"dataframe\">\n",
              "  <thead>\n",
              "    <tr style=\"text-align: right;\">\n",
              "      <th></th>\n",
              "      <th>index</th>\n",
              "      <th>id</th>\n",
              "      <th>final_d</th>\n",
              "      <th>emp_length_int</th>\n",
              "      <th>home_ownership_cat</th>\n",
              "      <th>annual_inc</th>\n",
              "      <th>income_cat</th>\n",
              "      <th>loan_amount</th>\n",
              "      <th>term_cat</th>\n",
              "      <th>application_type_cat</th>\n",
              "      <th>purpose_cat</th>\n",
              "      <th>interest_payment_cat</th>\n",
              "      <th>interest_rate</th>\n",
              "      <th>grade_cat</th>\n",
              "      <th>dti</th>\n",
              "      <th>total_pymnt</th>\n",
              "      <th>total_rec_prncp</th>\n",
              "      <th>recoveries</th>\n",
              "      <th>installment</th>\n",
              "      <th>region</th>\n",
              "    </tr>\n",
              "  </thead>\n",
              "  <tbody>\n",
              "    <tr>\n",
              "      <th>471459</th>\n",
              "      <td>471459</td>\n",
              "      <td>68353356</td>\n",
              "      <td>1012016</td>\n",
              "      <td>3.0</td>\n",
              "      <td>3</td>\n",
              "      <td>240000</td>\n",
              "      <td>3</td>\n",
              "      <td>20000</td>\n",
              "      <td>2</td>\n",
              "      <td>1</td>\n",
              "      <td>6</td>\n",
              "      <td>2</td>\n",
              "      <td>19.89</td>\n",
              "      <td>5</td>\n",
              "      <td>11.83</td>\n",
              "      <td>0.0000</td>\n",
              "      <td>0.00</td>\n",
              "      <td>0.0</td>\n",
              "      <td>528.66</td>\n",
              "      <td>4</td>\n",
              "    </tr>\n",
              "    <tr>\n",
              "      <th>272439</th>\n",
              "      <td>272439</td>\n",
              "      <td>32168709</td>\n",
              "      <td>1122015</td>\n",
              "      <td>8.0</td>\n",
              "      <td>3</td>\n",
              "      <td>70000</td>\n",
              "      <td>1</td>\n",
              "      <td>7000</td>\n",
              "      <td>1</td>\n",
              "      <td>1</td>\n",
              "      <td>8</td>\n",
              "      <td>1</td>\n",
              "      <td>12.49</td>\n",
              "      <td>2</td>\n",
              "      <td>18.12</td>\n",
              "      <td>3273.2400</td>\n",
              "      <td>2417.40</td>\n",
              "      <td>0.0</td>\n",
              "      <td>234.15</td>\n",
              "      <td>2</td>\n",
              "    </tr>\n",
              "    <tr>\n",
              "      <th>158077</th>\n",
              "      <td>158077</td>\n",
              "      <td>3631353</td>\n",
              "      <td>1062014</td>\n",
              "      <td>5.0</td>\n",
              "      <td>2</td>\n",
              "      <td>42000</td>\n",
              "      <td>1</td>\n",
              "      <td>10000</td>\n",
              "      <td>1</td>\n",
              "      <td>1</td>\n",
              "      <td>1</td>\n",
              "      <td>1</td>\n",
              "      <td>11.14</td>\n",
              "      <td>2</td>\n",
              "      <td>17.31</td>\n",
              "      <td>11153.6448</td>\n",
              "      <td>10000.00</td>\n",
              "      <td>0.0</td>\n",
              "      <td>328.06</td>\n",
              "      <td>4</td>\n",
              "    </tr>\n",
              "    <tr>\n",
              "      <th>266410</th>\n",
              "      <td>266410</td>\n",
              "      <td>32199405</td>\n",
              "      <td>1012016</td>\n",
              "      <td>4.0</td>\n",
              "      <td>1</td>\n",
              "      <td>41000</td>\n",
              "      <td>1</td>\n",
              "      <td>6000</td>\n",
              "      <td>1</td>\n",
              "      <td>1</td>\n",
              "      <td>6</td>\n",
              "      <td>1</td>\n",
              "      <td>12.49</td>\n",
              "      <td>2</td>\n",
              "      <td>15.01</td>\n",
              "      <td>2810.5300</td>\n",
              "      <td>2072.05</td>\n",
              "      <td>0.0</td>\n",
              "      <td>200.70</td>\n",
              "      <td>4</td>\n",
              "    </tr>\n",
              "    <tr>\n",
              "      <th>499118</th>\n",
              "      <td>499118</td>\n",
              "      <td>66600978</td>\n",
              "      <td>1012016</td>\n",
              "      <td>5.0</td>\n",
              "      <td>2</td>\n",
              "      <td>35000</td>\n",
              "      <td>1</td>\n",
              "      <td>15000</td>\n",
              "      <td>2</td>\n",
              "      <td>1</td>\n",
              "      <td>6</td>\n",
              "      <td>2</td>\n",
              "      <td>13.67</td>\n",
              "      <td>3</td>\n",
              "      <td>13.12</td>\n",
              "      <td>380.6400</td>\n",
              "      <td>175.59</td>\n",
              "      <td>0.0</td>\n",
              "      <td>346.47</td>\n",
              "      <td>0</td>\n",
              "    </tr>\n",
              "  </tbody>\n",
              "</table>\n",
              "</div>"
            ],
            "text/plain": [
              "         index        id  final_d  emp_length_int  home_ownership_cat  \\\n",
              "471459  471459  68353356  1012016             3.0                   3   \n",
              "272439  272439  32168709  1122015             8.0                   3   \n",
              "158077  158077   3631353  1062014             5.0                   2   \n",
              "266410  266410  32199405  1012016             4.0                   1   \n",
              "499118  499118  66600978  1012016             5.0                   2   \n",
              "\n",
              "        annual_inc  income_cat  loan_amount  term_cat  application_type_cat  \\\n",
              "471459      240000           3        20000         2                     1   \n",
              "272439       70000           1         7000         1                     1   \n",
              "158077       42000           1        10000         1                     1   \n",
              "266410       41000           1         6000         1                     1   \n",
              "499118       35000           1        15000         2                     1   \n",
              "\n",
              "        purpose_cat  interest_payment_cat  interest_rate  grade_cat    dti  \\\n",
              "471459            6                     2          19.89          5  11.83   \n",
              "272439            8                     1          12.49          2  18.12   \n",
              "158077            1                     1          11.14          2  17.31   \n",
              "266410            6                     1          12.49          2  15.01   \n",
              "499118            6                     2          13.67          3  13.12   \n",
              "\n",
              "        total_pymnt  total_rec_prncp  recoveries  installment  region  \n",
              "471459       0.0000             0.00         0.0       528.66       4  \n",
              "272439    3273.2400          2417.40         0.0       234.15       2  \n",
              "158077   11153.6448         10000.00         0.0       328.06       4  \n",
              "266410    2810.5300          2072.05         0.0       200.70       4  \n",
              "499118     380.6400           175.59         0.0       346.47       0  "
            ]
          },
          "execution_count": 200,
          "metadata": {},
          "output_type": "execute_result"
        }
      ],
      "source": [
        "X_train.head()"
      ]
    },
    {
      "cell_type": "code",
      "execution_count": 203,
      "metadata": {
        "id": "3wOs0midX5JC",
        "outputId": "80a166a8-8b4a-415a-c765-709cc1b1b3f1"
      },
      "outputs": [
        {
          "name": "stdout",
          "output_type": "stream",
          "text": [
            "Decision Tree:\n",
            "              precision    recall  f1-score   support\n",
            "\n",
            "           0       0.98      1.00      0.99    163990\n",
            "           1       1.00      0.70      0.82     13486\n",
            "\n",
            "    accuracy                           0.98    177476\n",
            "   macro avg       0.99      0.85      0.90    177476\n",
            "weighted avg       0.98      0.98      0.98    177476\n",
            "\n",
            "Recall :  0.6984279994067922\n",
            "Random Forest:\n",
            "              precision    recall  f1-score   support\n",
            "\n",
            "           0       0.99      1.00      0.99    163990\n",
            "           1       1.00      0.82      0.90     13486\n",
            "\n",
            "    accuracy                           0.99    177476\n",
            "   macro avg       0.99      0.91      0.95    177476\n",
            "weighted avg       0.99      0.99      0.99    177476\n",
            "\n",
            "Recall :  0.8181076672104405\n",
            "AdaBoost:\n",
            "              precision    recall  f1-score   support\n",
            "\n",
            "           0       0.99      0.99      0.99    163990\n",
            "           1       0.84      0.86      0.85     13486\n",
            "\n",
            "    accuracy                           0.98    177476\n",
            "   macro avg       0.91      0.92      0.92    177476\n",
            "weighted avg       0.98      0.98      0.98    177476\n",
            "\n",
            "Recall :  0.8580008898116566\n"
          ]
        }
      ],
      "source": [
        "for clfs, clf_name in zip([dt,rf,ada],['Decision Tree','Random Forest','AdaBoost']):\n",
        "  clfs.fit(X_train, y_train)\n",
        "  y_pred = clfs.predict(X_val)\n",
        "  print(clf_name+\":\")\n",
        "  print(classification_report(y_val,y_pred))\n",
        "  print('Recall : ', recall_score(y_val,y_pred))"
      ]
    },
    {
      "cell_type": "code",
      "execution_count": 204,
      "metadata": {
        "id": "6Tlm_SA7X5JD",
        "outputId": "7926270e-63b4-4261-fd5e-c4a0075ed3cc"
      },
      "outputs": [
        {
          "data": {
            "text/plain": [
              "<sklearn.metrics._plot.roc_curve.RocCurveDisplay at 0x243d5feb670>"
            ]
          },
          "execution_count": 204,
          "metadata": {},
          "output_type": "execute_result"
        },
        {
          "data": {
            "image/png": "[encoded data removed]",
            "text/plain": [
              "<Figure size 432x288 with 1 Axes>"
            ]
          },
          "metadata": {
            "needs_background": "light"
          },
          "output_type": "display_data"
        }
      ],
      "source": [
        "plot_roc_curve(dt, X_val, y_val)"
      ]
    },
    {
      "cell_type": "code",
      "execution_count": 205,
      "metadata": {
        "id": "CQWpTDSTX5JD",
        "outputId": "a235ef0c-f4ac-454e-ac9e-bd06cc9663e3"
      },
      "outputs": [
        {
          "data": {
            "text/plain": [
              "<sklearn.metrics._plot.roc_curve.RocCurveDisplay at 0x24439540b80>"
            ]
          },
          "execution_count": 205,
          "metadata": {},
          "output_type": "execute_result"
        },
        {
          "data": {
            "image/png": "[encoded data removed]",
            "text/plain": [
              "<Figure size 432x288 with 1 Axes>"
            ]
          },
          "metadata": {
            "needs_background": "light"
          },
          "output_type": "display_data"
        }
      ],
      "source": [
        "plot_roc_curve(ada, X_val, y_val)"
      ]
    },
    {
      "cell_type": "code",
      "execution_count": 206,
      "metadata": {
        "id": "CIwCnpMSX5JD",
        "outputId": "8c9cff65-a06d-4e6c-aa95-582766234389"
      },
      "outputs": [
        {
          "data": {
            "text/plain": [
              "<sklearn.metrics._plot.roc_curve.RocCurveDisplay at 0x243d5fd58a0>"
            ]
          },
          "execution_count": 206,
          "metadata": {},
          "output_type": "execute_result"
        },
        {
          "data": {
            "image/png": "[encoded data removed]",
            "text/plain": [
              "<Figure size 432x288 with 1 Axes>"
            ]
          },
          "metadata": {
            "needs_background": "light"
          },
          "output_type": "display_data"
        }
      ],
      "source": [
        "plot_roc_curve(rf, X_val, y_val)"
      ]
    },
    {
      "cell_type": "markdown",
      "metadata": {
        "id": "ZSmcD2gTX5JD"
      },
      "source": [
        "## Undersampling\n",
        "\n",
        "![image.png](data:image/png;base64,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)"
      ]
    },
    {
      "cell_type": "code",
      "execution_count": 207,
      "metadata": {
        "id": "QKZNkZQ5X5JE"
      },
      "outputs": [],
      "source": [
        "rus = RandomUnderSampler()\n",
        "X_under, y_under = rus.fit_resample(X_train, y_train)"
      ]
    },
    {
      "cell_type": "code",
      "execution_count": 208,
      "metadata": {
        "id": "otoE73WqX5JE",
        "outputId": "b421f524-3cc3-49f6-eef9-5cd026a8c5f2"
      },
      "outputs": [
        {
          "name": "stdout",
          "output_type": "stream",
          "text": [
            "              precision    recall  f1-score   support\n",
            "\n",
            "           0       0.99      0.91      0.95    163990\n",
            "           1       0.45      0.91      0.60     13486\n",
            "\n",
            "    accuracy                           0.91    177476\n",
            "   macro avg       0.72      0.91      0.77    177476\n",
            "weighted avg       0.95      0.91      0.92    177476\n",
            "\n",
            "Recall :  0.912872608631173\n"
          ]
        }
      ],
      "source": [
        "ada_under = AdaBoostClassifier(base_estimator=DecisionTreeClassifier(), n_estimators=100)\n",
        "ada_under.fit(X_under, y_under)\n",
        "y_pred = ada_under.predict(X_val)\n",
        "print(classification_report(y_val, y_pred))\n",
        "print('Recall : ', recall_score(y_val,y_pred))\n"
      ]
    },
    {
      "cell_type": "markdown",
      "metadata": {
        "id": "VccqfmInX5JF"
      },
      "source": [
        "Random Undersampling dapat meningkatkan Recall hingga +-15%"
      ]
    },
    {
      "cell_type": "code",
      "execution_count": 209,
      "metadata": {
        "id": "Esfr0pjXX5JF",
        "outputId": "490fc9a5-aa29-45da-f595-a9e15302c170"
      },
      "outputs": [
        {
          "data": {
            "text/plain": [
              "<sklearn.metrics._plot.roc_curve.RocCurveDisplay at 0x244248f7730>"
            ]
          },
          "execution_count": 209,
          "metadata": {},
          "output_type": "execute_result"
        },
        {
          "data": {
            "image/png": "[encoded data removed]",
            "text/plain": [
              "<Figure size 432x288 with 1 Axes>"
            ]
          },
          "metadata": {
            "needs_background": "light"
          },
          "output_type": "display_data"
        }
      ],
      "source": [
        "plot_roc_curve(ada_under, X_val, y_val)"
      ]
    },
    {
      "cell_type": "markdown",
      "metadata": {
        "id": "i2gOey6vX5JF"
      },
      "source": [
        "## Oversampling : SMOTE"
      ]
    },
    {
      "cell_type": "code",
      "execution_count": 210,
      "metadata": {
        "id": "O6flPaBOX5JF"
      },
      "outputs": [],
      "source": [
        "sm = SMOTE(random_state=101)\n",
        "X_over, y_over = rus.fit_resample(X_train, y_train)"
      ]
    },
    {
      "cell_type": "code",
      "execution_count": 211,
      "metadata": {
        "id": "rnm5Va5JX5JG",
        "outputId": "904aab40-d6a9-4fe6-f87f-0970c7bcda7c"
      },
      "outputs": [
        {
          "name": "stdout",
          "output_type": "stream",
          "text": [
            "              precision    recall  f1-score   support\n",
            "\n",
            "           0       0.99      0.91      0.95    163990\n",
            "           1       0.45      0.91      0.60     13486\n",
            "\n",
            "    accuracy                           0.91    177476\n",
            "   macro avg       0.72      0.91      0.77    177476\n",
            "weighted avg       0.95      0.91      0.92    177476\n",
            "\n",
            "Recall :  0.9122794008601512\n"
          ]
        }
      ],
      "source": [
        "ada_over = AdaBoostClassifier(base_estimator=DecisionTreeClassifier(), n_estimators=100)\n",
        "ada_over.fit(X_under, y_under)\n",
        "y_pred = ada_over.predict(X_val)\n",
        "print(classification_report(y_val, y_pred))\n",
        "print('Recall : ', recall_score(y_val,y_pred))\n"
      ]
    },
    {
      "cell_type": "code",
      "execution_count": 212,
      "metadata": {
        "id": "mnHaRpqHX5JG",
        "outputId": "2e20919b-9412-4c6d-d67c-90391389259d"
      },
      "outputs": [
        {
          "data": {
            "text/plain": [
              "<sklearn.metrics._plot.roc_curve.RocCurveDisplay at 0x244395413f0>"
            ]
          },
          "execution_count": 212,
          "metadata": {},
          "output_type": "execute_result"
        },
        {
          "data": {
            "image/png": "[encoded data removed]",
            "text/plain": [
              "<Figure size 432x288 with 1 Axes>"
            ]
          },
          "metadata": {
            "needs_background": "light"
          },
          "output_type": "display_data"
        }
      ],
      "source": [
        "plot_roc_curve(ada_over, X_val, y_val)"
      ]
    },
    {
      "cell_type": "markdown",
      "metadata": {
        "id": "mvASm6vOX5JH"
      },
      "source": [
        "Menggunakan oversampling dengan default parameter mendapatkan 76% recall."
      ]
    },
    {
      "cell_type": "code",
      "execution_count": 213,
      "metadata": {
        "id": "Tl6Pu6CrX5JH",
        "outputId": "7cdc1dd4-5086-41be-90b4-bf27f89eeb46"
      },
      "outputs": [
        {
          "name": "stdout",
          "output_type": "stream",
          "text": [
            "(532427, 20)\n",
            "(177476, 20)\n"
          ]
        }
      ],
      "source": [
        "print(X_train.shape)\n",
        "print(X_test.shape)"
      ]
    },
    {
      "cell_type": "markdown",
      "metadata": {
        "id": "jo_5nhAOX5JI"
      },
      "source": [
        "## Combine Hyperparameter Tuning with Balancing Method"
      ]
    },
    {
      "cell_type": "code",
      "execution_count": 214,
      "metadata": {
        "id": "XX8KaJk2X5JI"
      },
      "outputs": [],
      "source": [
        "tree = DecisionTreeClassifier(max_depth = 3)\n",
        "\n",
        "model_ada = AdaBoostClassifier(\n",
        "    tree,\n",
        "    n_estimators = 200,\n",
        "    learning_rate = 0.1,\n",
        "    random_state = 10\n",
        ")\n",
        "\n",
        "estimator = Pipeline([\n",
        "                      ('clf',model_ada)                 \n",
        "])\n",
        "\n",
        "hyperparam_space = [\n",
        "                    {'clf__learning_rate':[0.1],'clf__n_estimators':[200],'clf__base_estimator__max_depth':[3,4,5]},\n",
        "                    {'clf__learning_rate':[0.05],'clf__n_estimators':[400],'clf__base_estimator__max_depth':[3,4,5]},\n",
        "                    {'clf__learning_rate':[0.01],'clf__n_estimators':[2000],'clf__base_estimator__max_depth':[3,4,5]},\n",
        "                    {'clf__learning_rate':[0.005],'clf__n_estimators':[4000],'clf__base_estimator__max_depth':[3,4,5]}\n",
        "]\n",
        "\n",
        "skfold = StratifiedKFold(n_splits = 5)\n",
        "\n",
        "grid_search_ada = GridSearchCV(\n",
        "    estimator, # model to tune\n",
        "    param_grid = hyperparam_space, # hyperparameter space\n",
        "    cv = skfold, # evaluation method\n",
        "    scoring = 'recall', # metrics\n",
        "    n_jobs = -1 # use all cores\n",
        ")"
      ]
    },
    {
      "cell_type": "code",
      "execution_count": 215,
      "metadata": {
        "id": "uBgObutPX5JI"
      },
      "outputs": [],
      "source": [
        "rus = RandomUnderSampler()\n",
        "X_under, y_under = rus.fit_resample(X_train_val, y_train_val)"
      ]
    },
    {
      "cell_type": "code",
      "execution_count": 216,
      "metadata": {
        "id": "705sdIssX5JJ",
        "outputId": "6f2431d8-b4af-4510-e965-f1760ffe784e"
      },
      "outputs": [
        {
          "data": {
            "text/plain": [
              "GridSearchCV(cv=StratifiedKFold(n_splits=5, random_state=None, shuffle=False),\n",
              "             estimator=Pipeline(steps=[('clf',\n",
              "                                        AdaBoostClassifier(base_estimator=DecisionTreeClassifier(max_depth=3),\n",
              "                                                           learning_rate=0.1,\n",
              "                                                           n_estimators=200,\n",
              "                                                           random_state=10))]),\n",
              "             n_jobs=-1,\n",
              "             param_grid=[{'clf__base_estimator__max_depth': [3, 4, 5],\n",
              "                          'clf__learning_rate': [0.1],\n",
              "                          'clf__n_estimators': [200]},\n",
              "                         {'clf__base_estimator__max_depth': [3, 4, 5],\n",
              "                          'clf__learning_rate': [0.05],\n",
              "                          'clf__n_estimators': [400]},\n",
              "                         {'clf__base_estimator__max_depth': [3, 4, 5],\n",
              "                          'clf__learning_rate': [0.01],\n",
              "                          'clf__n_estimators': [2000]},\n",
              "                         {'clf__base_estimator__max_depth': [3, 4, 5],\n",
              "                          'clf__learning_rate': [0.005],\n",
              "                          'clf__n_estimators': [4000]}],\n",
              "             scoring='recall')"
            ]
          },
          "execution_count": 216,
          "metadata": {},
          "output_type": "execute_result"
        }
      ],
      "source": [
        "grid_search_ada.fit(X_under, y_under)\n",
        "# running selama 240 menit"
      ]
    },
    {
      "cell_type": "code",
      "execution_count": 217,
      "metadata": {
        "id": "tNUcAx9EX5JJ",
        "outputId": "fd10b89f-a38d-4dff-da67-a0485cd66251"
      },
      "outputs": [
        {
          "name": "stdout",
          "output_type": "stream",
          "text": [
            "best score 0.9170790997422393\n",
            "best param {'clf__base_estimator__max_depth': 5, 'clf__learning_rate': 0.1, 'clf__n_estimators': 200}\n"
          ]
        }
      ],
      "source": [
        "print('best score',grid_search_ada.best_score_)\n",
        "print('best param',grid_search_ada.best_params_)"
      ]
    },
    {
      "cell_type": "code",
      "execution_count": 218,
      "metadata": {
        "id": "zlp3Ks4gX5JJ",
        "outputId": "74793960-0904-43bd-f43f-39cbcb4b4077"
      },
      "outputs": [
        {
          "data": {
            "text/plain": [
              "Pipeline(steps=[('clf',\n",
              "                 AdaBoostClassifier(base_estimator=DecisionTreeClassifier(max_depth=5),\n",
              "                                    learning_rate=0.1, n_estimators=200,\n",
              "                                    random_state=10))])"
            ]
          },
          "execution_count": 218,
          "metadata": {},
          "output_type": "execute_result"
        }
      ],
      "source": [
        "grid_search_ada.best_estimator_.fit(X_under,y_under)"
      ]
    },
    {
      "cell_type": "code",
      "execution_count": 219,
      "metadata": {
        "id": "yOuar0liX5JK",
        "outputId": "b9cb72ab-297c-4134-96fa-a4c2e56fe95b"
      },
      "outputs": [
        {
          "name": "stdout",
          "output_type": "stream",
          "text": [
            "              precision    recall  f1-score   support\n",
            "\n",
            "           0       0.99      0.96      0.98    163990\n",
            "           1       0.67      0.92      0.77     13486\n",
            "\n",
            "    accuracy                           0.96    177476\n",
            "   macro avg       0.83      0.94      0.87    177476\n",
            "weighted avg       0.97      0.96      0.96    177476\n",
            "\n"
          ]
        }
      ],
      "source": [
        "y_pred = grid_search_ada.best_estimator_.predict(X_test)\n",
        "print(classification_report(y_test,y_pred))"
      ]
    },
    {
      "cell_type": "code",
      "execution_count": 220,
      "metadata": {
        "id": "OXqqPa3GX5JK",
        "outputId": "37050f6a-b3dc-4580-8c72-7bc390e24be3"
      },
      "outputs": [
        {
          "data": {
            "text/plain": [
              "<sklearn.metrics._plot.roc_curve.RocCurveDisplay at 0x24424869d20>"
            ]
          },
          "execution_count": 220,
          "metadata": {},
          "output_type": "execute_result"
        },
        {
          "data": {
            "image/png": "[encoded data removed]",
            "text/plain": [
              "<Figure size 432x288 with 1 Axes>"
            ]
          },
          "metadata": {
            "needs_background": "light"
          },
          "output_type": "display_data"
        }
      ],
      "source": [
        "plot_roc_curve(grid_search_ada.best_estimator_, X_test, y_test)"
      ]
    },
    {
      "cell_type": "code",
      "execution_count": 221,
      "metadata": {
        "id": "XEfsx6CmX5JL"
      },
      "outputs": [],
      "source": [
        "randomized_search = RandomizedSearchCV(\n",
        "    estimator, # model to tune\n",
        "    param_distributions = hyperparam_space, # hyperparameter space\n",
        "    n_iter = 20,\n",
        "    cv = skfold, # evaluation method\n",
        "    scoring = 'recall', # metrics\n",
        "    random_state = 2021,\n",
        "    n_jobs = -1 # use all cores\n",
        ")"
      ]
    },
    {
      "cell_type": "code",
      "execution_count": 222,
      "metadata": {
        "id": "l7VS-K0qX5JL",
        "outputId": "f2320005-b419-4ca4-bb80-063c5971fdbe"
      },
      "outputs": [
        {
          "data": {
            "text/plain": [
              "RandomizedSearchCV(cv=StratifiedKFold(n_splits=5, random_state=None, shuffle=False),\n",
              "                   estimator=Pipeline(steps=[('clf',\n",
              "                                              AdaBoostClassifier(base_estimator=DecisionTreeClassifier(max_depth=3),\n",
              "                                                                 learning_rate=0.1,\n",
              "                                                                 n_estimators=200,\n",
              "                                                                 random_state=10))]),\n",
              "                   n_iter=20, n_jobs=-1,\n",
              "                   param_distributions=[{'clf__base_estimator__max_depth': [3,\n",
              "                                                                            4,\n",
              "                                                                            5],\n",
              "                                         'clf__learning_rate': [0.1],\n",
              "                                         'clf__n_estimators': [200]},\n",
              "                                        {'clf__base_estimator__max_depth': [3,\n",
              "                                                                            4,\n",
              "                                                                            5],\n",
              "                                         'clf__learning_rate': [0.05],\n",
              "                                         'clf__n_estimators': [400]},\n",
              "                                        {'clf__base_estimator__max_depth': [3,\n",
              "                                                                            4,\n",
              "                                                                            5],\n",
              "                                         'clf__learning_rate': [0.01],\n",
              "                                         'clf__n_estimators': [2000]},\n",
              "                                        {'clf__base_estimator__max_depth': [3,\n",
              "                                                                            4,\n",
              "                                                                            5],\n",
              "                                         'clf__learning_rate': [0.005],\n",
              "                                         'clf__n_estimators': [4000]}],\n",
              "                   random_state=2021, scoring='recall')"
            ]
          },
          "execution_count": 222,
          "metadata": {},
          "output_type": "execute_result"
        }
      ],
      "source": [
        "randomized_search.fit(X_under, y_under)\n",
        "## running 271 menit"
      ]
    },
    {
      "cell_type": "code",
      "execution_count": 223,
      "metadata": {
        "id": "gElEFd6gX5JL",
        "outputId": "db1eafcc-8583-4fdc-831c-0625da99db88"
      },
      "outputs": [
        {
          "name": "stdout",
          "output_type": "stream",
          "text": [
            "best score 0.9170790997422393\n",
            "best param {'clf__n_estimators': 200, 'clf__learning_rate': 0.1, 'clf__base_estimator__max_depth': 5}\n"
          ]
        }
      ],
      "source": [
        "print('best score',randomized_search.best_score_)\n",
        "print('best param',randomized_search.best_params_)"
      ]
    },
    {
      "cell_type": "code",
      "execution_count": 224,
      "metadata": {
        "id": "N8oKVYydX5JL",
        "outputId": "f3c56552-972f-4e85-e5f8-d4d3d6abad0d"
      },
      "outputs": [
        {
          "data": {
            "text/plain": [
              "Pipeline(steps=[('clf',\n",
              "                 AdaBoostClassifier(base_estimator=DecisionTreeClassifier(max_depth=5),\n",
              "                                    learning_rate=0.1, n_estimators=200,\n",
              "                                    random_state=10))])"
            ]
          },
          "execution_count": 224,
          "metadata": {},
          "output_type": "execute_result"
        }
      ],
      "source": [
        "randomized_search.best_estimator_.fit(X_under,y_under)"
      ]
    },
    {
      "cell_type": "code",
      "execution_count": 225,
      "metadata": {
        "id": "diJ7RFjYX5JM",
        "outputId": "5f080e71-f5ce-4b65-9639-a19bca347b30"
      },
      "outputs": [
        {
          "name": "stdout",
          "output_type": "stream",
          "text": [
            "              precision    recall  f1-score   support\n",
            "\n",
            "           0       0.99      0.96      0.98    163990\n",
            "           1       0.67      0.92      0.77     13486\n",
            "\n",
            "    accuracy                           0.96    177476\n",
            "   macro avg       0.83      0.94      0.87    177476\n",
            "weighted avg       0.97      0.96      0.96    177476\n",
            "\n"
          ]
        }
      ],
      "source": [
        "y_pred = randomized_search.best_estimator_.predict(X_test)\n",
        "print(classification_report(y_test,y_pred))"
      ]
    },
    {
      "cell_type": "code",
      "execution_count": 226,
      "metadata": {
        "id": "l9DkO64LX5JM",
        "outputId": "f5ed0381-91c7-4a84-da63-d4953b8716d0"
      },
      "outputs": [
        {
          "data": {
            "text/plain": [
              "<sklearn.metrics._plot.roc_curve.RocCurveDisplay at 0x243f7fafd60>"
            ]
          },
          "execution_count": 226,
          "metadata": {},
          "output_type": "execute_result"
        },
        {
          "data": {
            "image/png": "[encoded data removed]",
            "text/plain": [
              "<Figure size 432x288 with 1 Axes>"
            ]
          },
          "metadata": {
            "needs_background": "light"
          },
          "output_type": "display_data"
        }
      ],
      "source": [
        "plot_roc_curve(randomized_search.best_estimator_, X_test, y_test)"
      ]
    },
    {
      "cell_type": "markdown",
      "metadata": {
        "id": "x50uyWxJX5JM"
      },
      "source": [
        "Dari model Machine Learning yang dibuat, didapatkan performance akhir recall di 79% dimana terdapat kenaikan 18% dari baseline.\n",
        "Hyperparameter tuning + undersampling bekerja dengan sangat baik pada model ini.\n",
        "Untuk meningkatkan performance model yang sudah didapat saya sarankan untuk menggunakan lebih banyak skenario percobaan."
      ]
    }
  ],
  "metadata": {
    "colab": {
      "name": "notebook.ipynb",
      "provenance": []
    },
    "interpreter": {
      "hash": "74eaa6774a169bec67c4dccb326766c2c8cf4f4e341bf5531e21465378b4a156"
    },
    "kernelspec": {
      "display_name": "Python 3.9.7 64-bit (windows store)",
      "language": "python",
      "name": "python3"
    },
    "language_info": {
      "codemirror_mode": {
        "name": "ipython",
        "version": 3
      },
      "file_extension": ".py",
      "mimetype": "text/x-python",
      "name": "python",
      "nbconvert_exporter": "python",
      "pygments_lexer": "ipython3",
      "version": "3.10.2"
    },
    "orig_nbformat": 4
  },
  "nbformat": 4,
  "nbformat_minor": 0
}
